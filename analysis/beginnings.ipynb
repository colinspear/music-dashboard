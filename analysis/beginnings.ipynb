{
 "cells": [
  {
   "cell_type": "code",
   "execution_count": 15,
   "metadata": {},
   "outputs": [],
   "source": [
    "access_token = 'ntc74JBCAkBLNUglVKHl0vyawpu9dzOk6X_krDgpdrRUVTsVc5V5TWLwHd79DOlz'"
   ]
  },
  {
   "cell_type": "code",
   "execution_count": 9,
   "metadata": {},
   "outputs": [],
   "source": [
    "import requests\n",
    "\n",
    "base_url = \"http://api.genius.com\"\n",
    "#Key line below here when, this is how to authorize your request when\n",
    "#using the API\n",
    "headers = {'Authorization': 'Bearer ' + access_token}\n",
    "search_url = base_url + \"/search\"\n",
    "song_title = \"The Serpent is Kind (Compared to Man)\"\n",
    "params = {'q': song_title}\n",
    "response = requests.get(search_url, params=params, headers=headers)"
   ]
  },
  {
   "cell_type": "code",
   "execution_count": 34,
   "metadata": {},
   "outputs": [
    {
     "name": "stdout",
     "output_type": "stream",
     "text": [
      "Searching for songs by Hiss Golden Messenger...\n",
      "\n",
      "Song 1: \"Ace of Cups Hung Low Band\"\n",
      "Song 2: \"As the Crow Flies\"\n",
      "Song 3: \"Bad Debt\"\n",
      "Song 4: \"Balthazar's Song\"\n",
      "Song 5: \"Biloxi\"\n",
      "Song 6: \"Black Dog Wind (Rose of Roses)\"\n",
      "Song 7: \"Blue Country Mystic\"\n",
      "Song 8: \"Brother, Do You Know the Road?\"\n",
      "Song 9: \"Brother, Do You Know the Road? by Hiss Golden Messenger\"\n",
      "Song 10: \"Brown-Eyed Women\"\n",
      "\n",
      "Reached user-specified song limit (10).\n",
      "Found 10 songs.\n",
      "Done.\n"
     ]
    }
   ],
   "source": [
    "import lyricsgenius as genius\n",
    "api = genius.Genius(access_token)\n",
    "artist = api.search_artist('Hiss Golden Messenger', max_songs=10, get_full_song_info=False)"
   ]
  },
  {
   "cell_type": "code",
   "execution_count": 17,
   "metadata": {},
   "outputs": [
    {
     "name": "stdout",
     "output_type": "stream",
     "text": [
      "Hiss Golden Messenger, 3 songs\n"
     ]
    }
   ],
   "source": [
    "print(artist)"
   ]
  },
  {
   "cell_type": "code",
   "execution_count": 18,
   "metadata": {},
   "outputs": [
    {
     "data": {
      "text/plain": [
       "'Hiss Golden Messenger'"
      ]
     },
     "execution_count": 18,
     "metadata": {},
     "output_type": "execute_result"
    }
   ],
   "source": [
    "artist.name"
   ]
  },
  {
   "cell_type": "code",
   "execution_count": 27,
   "metadata": {},
   "outputs": [
    {
     "data": {
      "text/plain": [
       "lyricsgenius.song.Song"
      ]
     },
     "execution_count": 27,
     "metadata": {},
     "output_type": "execute_result"
    }
   ],
   "source": [
    "typeartist.songs[2]"
   ]
  },
  {
   "cell_type": "code",
   "execution_count": 30,
   "metadata": {},
   "outputs": [
    {
     "name": "stdout",
     "output_type": "stream",
     "text": [
      "Searching for \"The Serpent is Kind (Compared to Man)\"...\n",
      "Done.\n"
     ]
    }
   ],
   "source": [
    "song = api.search_song('The Serpent is Kind (Compared to Man)')"
   ]
  },
  {
   "cell_type": "code",
   "execution_count": 33,
   "metadata": {},
   "outputs": [
    {
     "name": "stdout",
     "output_type": "stream",
     "text": [
      "I turn my face to the waterline\n",
      "I turn my face far away\n",
      "This, I realize, is not the way\n",
      "Where the dark lies, push it away\n",
      "\n",
      "[Chorus]\n",
      "Hard by design\n",
      "Hard times\n",
      "Are just a drop of rain\n",
      "So let the rain come on\n",
      "Behind, behind runs the sun\n",
      "\n",
      "I put my hands on the red dirt land\n",
      "I work the land where my father tread\n",
      "He said 'Don't be afraid when the snake is at hand;\n",
      "The serpent is kind compared to man'\n",
      "\n",
      "[Chorus]\n",
      "Hard by design\n",
      "Hard times\n",
      "Are just a drop of rain\n",
      "Let the rain come on\n",
      "Behind, behind runs the sun\n",
      "\n",
      "The littlest light\n",
      "Is the break of day\n",
      "The littlest lamp\n",
      "Finds a way\n",
      "All of our friends\n",
      "Across the land\n",
      "Alive in the light\n",
      "And I called her then\n",
      "\n",
      "[Chorus x2]\n",
      "Hard by design\n",
      "Hard times\n",
      "Are just a drop of rain\n",
      "So let the rain come on\n",
      "Outside, outside comes the sun\n",
      "\n",
      "Hard by design\n",
      "Hard times\n",
      "Are just a drop of rain\n",
      "So let the rain come on\n",
      "Outside, outside runs the sun\n"
     ]
    }
   ],
   "source": [
    "print(song.lyrics)"
   ]
  },
  {
   "cell_type": "markdown",
   "metadata": {},
   "source": [
    "## Get starred songs"
   ]
  },
  {
   "cell_type": "code",
   "execution_count": 1,
   "metadata": {},
   "outputs": [],
   "source": [
    "# import require modules\n",
    "import sys\n",
    "import spotipy\n",
    "import spotipy.util as util\n",
    "import pandas as pd\n",
    "\n",
    "# spotify api parameters\n",
    "username = 'colinspear1'\n",
    "client_id='ce2cc5f48d51431d80ff674bfba165e5'\n",
    "client_secret='e36aec36c3174decbce246226e6d8b7a'\n",
    "redirect_uri = 'http://localhost/'\n",
    "scope = 'user-library-read'\n",
    "\n",
    "# get token\n",
    "token = util.prompt_for_user_token(\n",
    "    username=username,\n",
    "    scope=scope, \n",
    "    client_id=client_id,\n",
    "    client_secret=client_secret,\n",
    "    redirect_uri=redirect_uri\n",
    ")\n",
    "\n",
    "# instantiate spotipy\n",
    "sp = spotipy.Spotify(auth=token)"
   ]
  },
  {
   "cell_type": "code",
   "execution_count": 2,
   "metadata": {},
   "outputs": [],
   "source": [
    "# collect saved tracks\n",
    "# improve by not limiting result to 350 - extend indefinitely\n",
    "song_list = []\n",
    "i = 0\n",
    "while i < 350:\n",
    "    results = sp.current_user_saved_tracks(limit=50, offset=i)\n",
    "    for item in results['items']:\n",
    "        song_list.append(item)\n",
    "    i += 50"
   ]
  },
  {
   "cell_type": "markdown",
   "metadata": {},
   "source": [
    "## Save song features and analysis"
   ]
  },
  {
   "cell_type": "code",
   "execution_count": 68,
   "metadata": {},
   "outputs": [
    {
     "name": "stdout",
     "output_type": "stream",
     "text": [
      "Grabbing data from song number 0\n",
      "Grabbing data from song number 25\n",
      "Grabbing data from song number 50\n",
      "Grabbing data from song number 75\n",
      "Grabbing data from song number 100\n",
      "Grabbing data from song number 125\n",
      "Grabbing data from song number 150\n",
      "Grabbing data from song number 175\n",
      "Grabbing data from song number 200\n",
      "Grabbing data from song number 225\n",
      "Grabbing data from song number 250\n",
      "Grabbing data from song number 275\n",
      "Grabbing data from song number 300\n"
     ]
    }
   ],
   "source": [
    "# initiate song dictionary\n",
    "song_dict = dict(\n",
    "    time_added=[],\n",
    "    release_date=[],\n",
    "    release_date_precision=[],\n",
    "    artist_name=[],\n",
    "    artist_id=[],\n",
    "    song_id=[],\n",
    "    song_length_ms=[],\n",
    "    song_name=[],\n",
    "    popularity=[], \n",
    "    loudness = [], \n",
    "    tempo = [], \n",
    "    tempo_confidence = [], \n",
    "    time_signature = [],\n",
    "    time_sig_conf = [], \n",
    "    key = [], \n",
    "    key_confidence = [], \n",
    "    mode = [], \n",
    "    mode_confidence = [], \n",
    "    danceability = [],\n",
    "    energy = [], \n",
    "    speechiness = [], \n",
    "    acousticness = [], \n",
    "    instrumentalness = [], \n",
    "    liveness = [], \n",
    "    valence = [], \n",
    ")\n",
    "\n",
    "# collect saved track data\n",
    "for i, song in enumerate(song_list):\n",
    "    if song_list[i]['track']['id'] in song_dict['song_id']:\n",
    "        continue\n",
    "    else:        \n",
    "        if i % 25 == 0:\n",
    "            print('Grabbing data from song number {}'.format(i))\n",
    "        \n",
    "        song_dict['time_added'].append(song_list[i]['added_at'])\n",
    "        song_dict['release_date'].append(song_list[i]['track']['album']['release_date'])\n",
    "        song_dict['release_date_precision'].append(song_list[i]['track']['album']['release_date_precision'])\n",
    "        song_dict['artist_name'].append(song_list[i]['track']['album']['artists'][0]['name'])\n",
    "        song_dict['artist_id'].append(song_list[i]['track']['artists'][0]['id'])\n",
    "        song_dict['song_id'].append(song_list[i]['track']['id'])\n",
    "        song_dict['song_length_ms'].append(song_list[i]['track']['duration_ms'])\n",
    "        song_dict['song_name'].append(song_list[i]['track']['name'])\n",
    "        song_dict['popularity'].append(song_list[i]['track']['popularity'])\n",
    " \n",
    "        audio_analysis = sp.audio_analysis(song_list[i]['track']['id'])\n",
    "        song_dict['loudness'].append(audio_analysis['track']['loudness'])\n",
    "        song_dict['tempo'].append(audio_analysis['track']['tempo'])\n",
    "        song_dict['tempo_confidence'].append(audio_analysis['track']['tempo_confidence'])\n",
    "        song_dict['time_signature'].append(audio_analysis['track']['time_signature'])\n",
    "        song_dict['time_sig_conf'].append(audio_analysis['track']['time_signature_confidence'])\n",
    "        song_dict['key'].append(audio_analysis['track']['key'])\n",
    "        song_dict['key_confidence'].append(audio_analysis['track']['key_confidence'])\n",
    "        song_dict['mode'].append(audio_analysis['track']['mode'])\n",
    "        song_dict['mode_confidence'].append(audio_analysis['track']['mode_confidence'])\n",
    "        \n",
    "        audio_features = sp.audio_features(top_song_id)\n",
    "        song_dict['danceability'].append(audio_features[0]['danceability'])\n",
    "        song_dict['energy'].append(audio_features[0]['energy'])\n",
    "        song_dict['speechiness'].append(audio_features[0]['speechiness'])\n",
    "        song_dict['acousticness'].append(audio_features[0]['acousticness'])\n",
    "        song_dict['instrumentalness'].append(audio_features[0]['instrumentalness'])\n",
    "        song_dict['liveness'].append(audio_features[0]['liveness'])\n",
    "        song_dict['valence'].append(audio_features[0]['valence'])\n",
    "        \n",
    "fave_songs = pd.DataFrame(song_dict)\n",
    "fave_songs.to_pickle('starred_songs.pkl')"
   ]
  },
  {
   "cell_type": "markdown",
   "metadata": {},
   "source": [
    "## Most popular of saved songs"
   ]
  },
  {
   "cell_type": "code",
   "execution_count": 67,
   "metadata": {},
   "outputs": [],
   "source": [
    "fave_songs = pd.DataFrame(song_dict)"
   ]
  },
  {
   "cell_type": "code",
   "execution_count": 70,
   "metadata": {},
   "outputs": [
    {
     "name": "stdout",
     "output_type": "stream",
     "text": [
      "The most popular song in your catalog is Herside Story by GoldLink with a popularity score of 70.\n"
     ]
    }
   ],
   "source": [
    "pop_max = fave_songs['popularity'].max()\n",
    "pop_cond = fave_songs.index[fave_songs['popularity'] == pop_max]\n",
    "top_song_artist = fave_songs.loc[pop_cond, 'artist_name'].values[0]\n",
    "top_song_name = fave_songs.loc[pop_cond, 'song_name'].values[0]\n",
    "top_song_id = fave_songs.loc[pop_cond, 'song_id'].values[0]\n",
    "\n",
    "print('The most popular song in your catalog is {} by {} with a popularity score of {}.'.format(top_song_name, top_song_artist, pop_max))"
   ]
  },
  {
   "cell_type": "code",
   "execution_count": 62,
   "metadata": {},
   "outputs": [],
   "source": [
    "audio_analysis = sp.audio_analysis(top_song_id)\n",
    "audio_features = sp.audio_features(top_song_id)"
   ]
  },
  {
   "cell_type": "code",
   "execution_count": 65,
   "metadata": {},
   "outputs": [
    {
     "data": {
      "text/plain": [
       "0.295"
      ]
     },
     "execution_count": 65,
     "metadata": {},
     "output_type": "execute_result"
    }
   ],
   "source": [
    "audio_features[0]['danceability']"
   ]
  },
  {
   "cell_type": "code",
   "execution_count": 44,
   "metadata": {},
   "outputs": [],
   "source": [
    "section_dict = dict(\n",
    "    start = []\n",
    ")\n",
    "for section in audio_analysis['sections']:\n",
    "    section_dict['start'].append(section['start'])"
   ]
  },
  {
   "cell_type": "code",
   "execution_count": 45,
   "metadata": {},
   "outputs": [
    {
     "data": {
      "text/plain": [
       "{'start': [0.0, 7.41373, 32.85152, 47.87509, 68.33941, 101.31868, 125.10809]}"
      ]
     },
     "execution_count": 45,
     "metadata": {},
     "output_type": "execute_result"
    }
   ],
   "source": [
    "section_dict"
   ]
  },
  {
   "cell_type": "code",
   "execution_count": null,
   "metadata": {},
   "outputs": [],
   "source": [
    "fave_songs = pd.DataFrame(song_dict)"
   ]
  },
  {
   "cell_type": "code",
   "execution_count": 19,
   "metadata": {},
   "outputs": [
    {
     "data": {
      "text/plain": [
       "{'start': 0.0,\n",
       " 'duration': 0.66236,\n",
       " 'confidence': 0.0,\n",
       " 'loudness_start': -60.0,\n",
       " 'loudness_max_time': 0.0,\n",
       " 'loudness_max': -60.0,\n",
       " 'pitches': [0.075,\n",
       "  0.073,\n",
       "  0.096,\n",
       "  0.05,\n",
       "  0.072,\n",
       "  0.052,\n",
       "  0.057,\n",
       "  0.078,\n",
       "  0.045,\n",
       "  0.066,\n",
       "  1.0,\n",
       "  0.954],\n",
       " 'timbre': [0.0,\n",
       "  171.13,\n",
       "  9.469,\n",
       "  -28.48,\n",
       "  57.491,\n",
       "  -50.067,\n",
       "  14.833,\n",
       "  5.359,\n",
       "  -27.228,\n",
       "  0.973,\n",
       "  -10.64,\n",
       "  -7.228]}"
      ]
     },
     "execution_count": 19,
     "metadata": {},
     "output_type": "execute_result"
    }
   ],
   "source": [
    "audio_analysis['segments'][0]"
   ]
  },
  {
   "cell_type": "code",
   "execution_count": 17,
   "metadata": {},
   "outputs": [
    {
     "name": "stdout",
     "output_type": "stream",
     "text": [
      "0.0\n",
      "13.04162\n",
      "37.47592\n",
      "161.85907\n",
      "175.73222\n",
      "201.31659\n",
      "218.86235\n",
      "309.7091\n"
     ]
    }
   ],
   "source": [
    "for section in audio_analysis['sections']:\n",
    "    print(section['start'])"
   ]
  },
  {
   "cell_type": "code",
   "execution_count": 18,
   "metadata": {},
   "outputs": [
    {
     "data": {
      "text/plain": [
       "[{'danceability': 0.683,\n",
       "  'energy': 0.842,\n",
       "  'key': 0,\n",
       "  'loudness': -7.075,\n",
       "  'mode': 1,\n",
       "  'speechiness': 0.0626,\n",
       "  'acousticness': 0.214,\n",
       "  'instrumentalness': 0.539,\n",
       "  'liveness': 0.192,\n",
       "  'valence': 0.777,\n",
       "  'tempo': 81.972,\n",
       "  'type': 'audio_features',\n",
       "  'id': '0PiKRl8dvzGrxAfbwKUR8w',\n",
       "  'uri': 'spotify:track:0PiKRl8dvzGrxAfbwKUR8w',\n",
       "  'track_href': 'https://api.spotify.com/v1/tracks/0PiKRl8dvzGrxAfbwKUR8w',\n",
       "  'analysis_url': 'https://api.spotify.com/v1/audio-analysis/0PiKRl8dvzGrxAfbwKUR8w',\n",
       "  'duration_ms': 316720,\n",
       "  'time_signature': 4}]"
      ]
     },
     "execution_count": 18,
     "metadata": {},
     "output_type": "execute_result"
    }
   ],
   "source": [
    "audio_features"
   ]
  },
  {
   "cell_type": "code",
   "execution_count": 26,
   "metadata": {},
   "outputs": [
    {
     "name": "stdout",
     "output_type": "stream",
     "text": [
      "\n",
      "1\n",
      "22\n",
      "333\n",
      "4444\n",
      "55555\n",
      "666666\n",
      "7777777\n",
      "88888888\n",
      "999999999\n"
     ]
    }
   ],
   "source": [
    "dict(\n",
    "    danceability = [],\n",
    "    energy = [], \n",
    "    key = [], \n",
    "    loudness = [], \n",
    "    mode = [], \n",
    "    speechiness = [], \n",
    "    acousticness = [], \n",
    "    instrumentalness = [], \n",
    "    liveness = [], \n",
    "    valence = [], \n",
    "    tempo = [], \n",
    "    time_signature = []\n",
    ")"
   ]
  },
  {
   "cell_type": "code",
   "execution_count": null,
   "metadata": {},
   "outputs": [],
   "source": []
  }
 ],
 "metadata": {
  "kernelspec": {
   "display_name": "Python 3",
   "language": "python",
   "name": "python3"
  },
  "language_info": {
   "codemirror_mode": {
    "name": "ipython",
    "version": 3
   },
   "file_extension": ".py",
   "mimetype": "text/x-python",
   "name": "python",
   "nbconvert_exporter": "python",
   "pygments_lexer": "ipython3",
   "version": "3.6.4"
  }
 },
 "nbformat": 4,
 "nbformat_minor": 2
}
