{
 "cells": [
  {
   "cell_type": "code",
   "execution_count": 1,
   "metadata": {},
   "outputs": [],
   "source": [
    "from pathlib import Path\n",
    "import pandas as pd\n",
    "import pickle"
   ]
  },
  {
   "cell_type": "code",
   "execution_count": 2,
   "metadata": {},
   "outputs": [],
   "source": [
    "raw_path = Path.cwd().parent / 'data/raw'"
   ]
  },
  {
   "cell_type": "code",
   "execution_count": 3,
   "metadata": {},
   "outputs": [
    {
     "data": {
      "text/plain": [
       "PosixPath('/Users/colinspear/dev/music/data/raw')"
      ]
     },
     "execution_count": 3,
     "metadata": {},
     "output_type": "execute_result"
    }
   ],
   "source": [
    "raw_path"
   ]
  },
  {
   "cell_type": "code",
   "execution_count": 4,
   "metadata": {},
   "outputs": [],
   "source": [
    "dw_files = [f.name for f in raw_path.glob('*discover-weekly.pkl')]"
   ]
  },
  {
   "cell_type": "code",
   "execution_count": 8,
   "metadata": {},
   "outputs": [],
   "source": [
    "df = pd.concat([pd.read_pickle(raw_path / f) for f in dw_files])\n",
    "\n",
    "# popularity can change (future project?)\n",
    "df = df.drop_duplicates(df.columns.drop('popularity'))\n",
    "#df.to_pickle('dw_combined.pkl')\n"
   ]
  },
  {
   "cell_type": "code",
   "execution_count": 10,
   "metadata": {},
   "outputs": [
    {
     "data": {
      "text/plain": [
       "(1200, 25)"
      ]
     },
     "execution_count": 10,
     "metadata": {},
     "output_type": "execute_result"
    }
   ],
   "source": [
    "df.shape"
   ]
  },
  {
   "cell_type": "code",
   "execution_count": 6,
   "metadata": {},
   "outputs": [],
   "source": [
    "def build_combined_dw_df(raw_path, dw_files):\n",
    "    '''\n",
    "    build the dataset of all discover weekly playlests\n",
    "    \n",
    "    raw_path - directory containing weekly dw data\n",
    "    dw_files - generator of all dw data files\n",
    "    '''\n",
    "    pickles = [f.name for f in raw_path.glob('*.pkl')]\n",
    "    if 'dw_combined.pkl' not in pickles:\n",
    "        # combine all existing discover weekly datasets if not combined previously\n",
    "        df = pd.concat([pd.read_pickle(raw_path / f) for f in dw_files])\n",
    "        \n",
    "        # popularity can change (future project?)\n",
    "        df = df.drop_duplicates(df.columns.drop('popularity'))\n",
    "        df.to_pickle('dw_combined.pkl')\n",
    "    elif 'dw_combined.pkl' in raw_path:    # add only new files\n",
    "        # load existing dataset\n",
    "        df = pd.read_csv(raw_path / 'dw_combined.pkl')\n",
    "        # get all existing dates\n",
    "        dw_dates = df['time_added'].str[:10].unique()\n",
    "        # if a file has a date greater than latest in existing dataset, add it to dataset\n",
    "        for f in raw_path.glob('*discover-weekly.pkl'):\n",
    "            temp_df = pd.read_pickle(f)\n",
    "            playlist_date = temp_df['time_added'].str[:10].unique()\n",
    "            if playlist_date > max(dw_dates):\n",
    "                df = df.concat(temp_df)\n",
    "            else:\n",
    "                pass\n",
    "        \n",
    "    return df.drop_duplicates(df.columns.drop('popularity'))"
   ]
  },
  {
   "cell_type": "code",
   "execution_count": 7,
   "metadata": {},
   "outputs": [
    {
     "ename": "TypeError",
     "evalue": "argument of type 'PosixPath' is not iterable",
     "output_type": "error",
     "traceback": [
      "\u001b[0;31m---------------------------------------------------------------------------\u001b[0m",
      "\u001b[0;31mTypeError\u001b[0m                                 Traceback (most recent call last)",
      "\u001b[0;32m<ipython-input-7-dfcefcde8b8a>\u001b[0m in \u001b[0;36m<module>\u001b[0;34m\u001b[0m\n\u001b[0;32m----> 1\u001b[0;31m \u001b[0mdf\u001b[0m \u001b[0;34m=\u001b[0m \u001b[0mbuild_combined_dw_df\u001b[0m\u001b[0;34m(\u001b[0m\u001b[0mraw_path\u001b[0m\u001b[0;34m,\u001b[0m \u001b[0mdw_files\u001b[0m\u001b[0;34m)\u001b[0m\u001b[0;34m\u001b[0m\u001b[0;34m\u001b[0m\u001b[0m\n\u001b[0m\u001b[1;32m      2\u001b[0m \u001b[0mdf\u001b[0m\u001b[0;34m.\u001b[0m\u001b[0mto_pickle\u001b[0m\u001b[0;34m(\u001b[0m\u001b[0mraw_path\u001b[0m \u001b[0;34m/\u001b[0m \u001b[0;34m'dw_combined.pkl'\u001b[0m\u001b[0;34m)\u001b[0m\u001b[0;34m\u001b[0m\u001b[0;34m\u001b[0m\u001b[0m\n",
      "\u001b[0;32m<ipython-input-6-3255d4286761>\u001b[0m in \u001b[0;36mbuild_combined_dw_df\u001b[0;34m(raw_path, dw_files)\u001b[0m\n\u001b[1;32m     14\u001b[0m         \u001b[0mdf\u001b[0m \u001b[0;34m=\u001b[0m \u001b[0mdf\u001b[0m\u001b[0;34m.\u001b[0m\u001b[0mdrop_duplicates\u001b[0m\u001b[0;34m(\u001b[0m\u001b[0mdf\u001b[0m\u001b[0;34m.\u001b[0m\u001b[0mcolumns\u001b[0m\u001b[0;34m.\u001b[0m\u001b[0mdrop\u001b[0m\u001b[0;34m(\u001b[0m\u001b[0;34m'popularity'\u001b[0m\u001b[0;34m)\u001b[0m\u001b[0;34m)\u001b[0m\u001b[0;34m\u001b[0m\u001b[0;34m\u001b[0m\u001b[0m\n\u001b[1;32m     15\u001b[0m         \u001b[0mdf\u001b[0m\u001b[0;34m.\u001b[0m\u001b[0mto_pickle\u001b[0m\u001b[0;34m(\u001b[0m\u001b[0;34m'dw_combined.pkl'\u001b[0m\u001b[0;34m)\u001b[0m\u001b[0;34m\u001b[0m\u001b[0;34m\u001b[0m\u001b[0m\n\u001b[0;32m---> 16\u001b[0;31m     \u001b[0;32melif\u001b[0m \u001b[0;34m'dw_combined.pkl'\u001b[0m \u001b[0;32min\u001b[0m \u001b[0mraw_path\u001b[0m\u001b[0;34m:\u001b[0m    \u001b[0;31m# add only new files\u001b[0m\u001b[0;34m\u001b[0m\u001b[0;34m\u001b[0m\u001b[0m\n\u001b[0m\u001b[1;32m     17\u001b[0m         \u001b[0;31m# load existing dataset\u001b[0m\u001b[0;34m\u001b[0m\u001b[0;34m\u001b[0m\u001b[0;34m\u001b[0m\u001b[0m\n\u001b[1;32m     18\u001b[0m         \u001b[0mdf\u001b[0m \u001b[0;34m=\u001b[0m \u001b[0mpd\u001b[0m\u001b[0;34m.\u001b[0m\u001b[0mread_csv\u001b[0m\u001b[0;34m(\u001b[0m\u001b[0mraw_path\u001b[0m \u001b[0;34m/\u001b[0m \u001b[0;34m'dw_combined.pkl'\u001b[0m\u001b[0;34m)\u001b[0m\u001b[0;34m\u001b[0m\u001b[0;34m\u001b[0m\u001b[0m\n",
      "\u001b[0;31mTypeError\u001b[0m: argument of type 'PosixPath' is not iterable"
     ]
    }
   ],
   "source": [
    "df = build_combined_dw_df(raw_path, dw_files)\n",
    "df.to_pickle(raw_path / 'dw_combined.pkl')"
   ]
  },
  {
   "cell_type": "code",
   "execution_count": null,
   "metadata": {},
   "outputs": [],
   "source": []
  }
 ],
 "metadata": {
  "kernelspec": {
   "display_name": "Python 3",
   "language": "python",
   "name": "python3"
  },
  "language_info": {
   "codemirror_mode": {
    "name": "ipython",
    "version": 3
   },
   "file_extension": ".py",
   "mimetype": "text/x-python",
   "name": "python",
   "nbconvert_exporter": "python",
   "pygments_lexer": "ipython3",
   "version": "3.8.6"
  }
 },
 "nbformat": 4,
 "nbformat_minor": 4
}
