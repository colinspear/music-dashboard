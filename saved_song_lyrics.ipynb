{
 "cells": [
  {
   "cell_type": "markdown",
   "metadata": {},
   "source": [
    "Takes results of the Spotify saved songs scrape and collects lyrics using Genius API"
   ]
  },
  {
   "cell_type": "code",
   "execution_count": 1,
   "metadata": {},
   "outputs": [],
   "source": [
    "import pandas as pd\n",
    "import requests\n",
    "import lyricsgenius as genius\n",
    "\n",
    "df = pd.read_pickle('starred_songs.pkl')"
   ]
  },
  {
   "cell_type": "code",
   "execution_count": 2,
   "metadata": {},
   "outputs": [],
   "source": [
    "songs = df[['artist_name', 'song_name']].values"
   ]
  },
  {
   "cell_type": "code",
   "execution_count": 3,
   "metadata": {},
   "outputs": [],
   "source": [
    "access_token = 'ntc74JBCAkBLNUglVKHl0vyawpu9dzOk6X_krDgpdrRUVTsVc5V5TWLwHd79DOlz'"
   ]
  },
  {
   "cell_type": "code",
   "execution_count": 4,
   "metadata": {},
   "outputs": [],
   "source": [
    "base_url = \"http://api.genius.com\"\n",
    "#Key line below here when, this is how to authorize your request when\n",
    "#using the API\n",
    "headers = {'Authorization': 'Bearer ' + access_token}\n",
    "search_url = base_url + \"/search\"\n",
    "song_title = \"The Serpent is Kind (Compared to Man)\"\n",
    "params = {'q': song_title}\n",
    "response = requests.get(search_url, params=params, headers=headers)\n",
    "\n",
    "\n",
    "api = genius.Genius(access_token)"
   ]
  },
  {
   "cell_type": "code",
   "execution_count": 23,
   "metadata": {},
   "outputs": [
    {
     "name": "stdout",
     "output_type": "stream",
     "text": [
      "Searching for \"Alger la blanche\" by Nicolas Godin...\n",
      "Specified song was not first result\n",
      "Searching for \"Come Down In Time\" by Bedouine...\n",
      "Specified song was not first result\n",
      "Searching for \"Lay Down In the Tall Grass\" by Timber Timbre...\n",
      "Done.\n",
      "Searching for \"I Want a Little Sugar In My Bowl\" by Nina Simone...\n",
      "Done.\n",
      "Searching for \"The Memory Junkie\" by Club Kuru...\n",
      "Done.\n",
      "Searching for \"Summertime\" by Big Brother & The Holding Company...\n",
      "Specified song was not first result\n",
      "Searching for \"HZLWD\" by Richard Swift...\n",
      "Done.\n",
      "Searching for \"symbol\" by Adrianne Lenker...\n",
      "Done.\n",
      "Searching for \"Over When You Die\" by Dada Plan...\n",
      "Specified song was not first result\n"
     ]
    }
   ],
   "source": [
    "i = len(songs)\n",
    "\n",
    "lyric_dict = dict(\n",
    "    artist=[], \n",
    "    song=[], \n",
    "    lyrics=[], \n",
    "    year=[],\n",
    ")\n",
    "\n",
    "#for i in range(i):\n",
    "for i, song in enumerate(songs):\n",
    "    song_lyrics = api.search_song(song_title=song[1], artist_name=song[0])\n",
    "    \n",
    "    if song_lyrics:\n",
    "        lyric_dict['year'].append(song_lyrics.year)\n",
    "        lyric_dict['artist'].append(song_lyrics.artist)\n",
    "        lyric_dict['lyrics'].append(song_lyrics.lyrics)\n",
    "        lyric_dict['song'].append(song_lyrics.title)\n",
    "    elif i > 5:\n",
    "        break\n",
    "    else:\n",
    "        continue\n"
   ]
  },
  {
   "cell_type": "code",
   "execution_count": 16,
   "metadata": {},
   "outputs": [
    {
     "name": "stdout",
     "output_type": "stream",
     "text": [
      "Lyrics were found for 58.44% (180) of saved songs.\n"
     ]
    }
   ],
   "source": [
    "song_lyric_count = len(lyric_dict['artist'])\n",
    "lyrics_coverage = (song_lyric_count / i)\n",
    "print(\"Lyrics were found for {:.2%} ({}) of saved songs.\".format(lyrics_coverage, song_lyric_count))"
   ]
  },
  {
   "cell_type": "code",
   "execution_count": 19,
   "metadata": {},
   "outputs": [],
   "source": [
    "lyric_df = pd.DataFrame(lyric_dict)\n",
    "pd.to_pickle(lyric_df, 'saved_song_lyrics.pkl')"
   ]
  }
 ],
 "metadata": {
  "kernelspec": {
   "display_name": "Python 3",
   "language": "python",
   "name": "python3"
  },
  "language_info": {
   "codemirror_mode": {
    "name": "ipython",
    "version": 3
   },
   "file_extension": ".py",
   "mimetype": "text/x-python",
   "name": "python",
   "nbconvert_exporter": "python",
   "pygments_lexer": "ipython3",
   "version": "3.6.4"
  }
 },
 "nbformat": 4,
 "nbformat_minor": 2
}
