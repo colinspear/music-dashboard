{
 "cells": [
  {
   "cell_type": "code",
   "execution_count": 1,
   "metadata": {},
   "outputs": [
    {
     "ename": "ModuleNotFoundError",
     "evalue": "No module named 'pandas'",
     "output_type": "error",
     "traceback": [
      "\u001b[0;31m---------------------------------------------------------------------------\u001b[0m",
      "\u001b[0;31mModuleNotFoundError\u001b[0m                       Traceback (most recent call last)",
      "\u001b[0;32m<ipython-input-1-539e0c240c9c>\u001b[0m in \u001b[0;36m<module>\u001b[0;34m()\u001b[0m\n\u001b[0;32m----> 1\u001b[0;31m \u001b[0;32mimport\u001b[0m \u001b[0mpandas\u001b[0m \u001b[0;32mas\u001b[0m \u001b[0mpd\u001b[0m\u001b[0;34m\u001b[0m\u001b[0m\n\u001b[0m\u001b[1;32m      2\u001b[0m \u001b[0;34m\u001b[0m\u001b[0m\n\u001b[1;32m      3\u001b[0m \u001b[0mdf\u001b[0m \u001b[0;34m=\u001b[0m \u001b[0mpd\u001b[0m\u001b[0;34m.\u001b[0m\u001b[0mread_pickle\u001b[0m\u001b[0;34m(\u001b[0m\u001b[0;34m'starred_songs.pkl'\u001b[0m\u001b[0;34m)\u001b[0m\u001b[0;34m\u001b[0m\u001b[0m\n",
      "\u001b[0;31mModuleNotFoundError\u001b[0m: No module named 'pandas'"
     ]
    }
   ],
   "source": [
    "import pandas as pd\n",
    "\n",
    "df = pd.read_pickle('starred_songs.pkl')"
   ]
  },
  {
   "cell_type": "code",
   "execution_count": 2,
   "metadata": {},
   "outputs": [
    {
     "name": "stdout",
     "output_type": "stream",
     "text": [
      "appnope==0.1.0\n",
      "backcall==0.1.0\n",
      "bleach==2.1.4\n",
      "certifi==2018.8.24\n",
      "chardet==3.0.4\n",
      "decorator==4.3.0\n",
      "defusedxml==0.5.0\n",
      "entrypoints==0.2.3\n",
      "html5lib==1.0.1\n",
      "idna==2.7\n",
      "ipykernel==4.9.0\n",
      "ipython==6.5.0\n",
      "ipython-genutils==0.2.0\n",
      "ipywidgets==7.4.2\n",
      "jedi==0.12.1\n",
      "Jinja2==2.10\n",
      "jsonschema==2.6.0\n",
      "jupyter==1.0.0\n",
      "jupyter-client==5.2.3\n",
      "jupyter-console==5.2.0\n",
      "jupyter-core==4.4.0\n",
      "jupyterlab==0.34.10\n",
      "jupyterlab-launcher==0.13.1\n",
      "MarkupSafe==1.0\n",
      "mistune==0.8.3\n",
      "nbconvert==5.4.0\n",
      "nbformat==4.4.0\n",
      "notebook==5.6.0\n",
      "pandocfilters==1.4.2\n",
      "parso==0.3.1\n",
      "pexpect==4.6.0\n",
      "pickleshare==0.7.4\n",
      "prometheus-client==0.3.1\n",
      "prompt-toolkit==1.0.15\n",
      "ptyprocess==0.6.0\n",
      "Pygments==2.2.0\n",
      "python-dateutil==2.7.3\n",
      "pyzmq==17.1.2\n",
      "qtconsole==4.4.1\n",
      "rauth==0.7.3\n",
      "requests==2.19.1\n",
      "Send2Trash==1.5.0\n",
      "simplegeneric==0.8.1\n",
      "six==1.11.0\n",
      "terminado==0.8.1\n",
      "testpath==0.3.1\n",
      "tornado==5.1\n",
      "traitlets==4.3.2\n",
      "urllib3==1.23\n",
      "wcwidth==0.1.7\n",
      "webencodings==0.5.1\n",
      "widgetsnbextension==3.4.2\n"
     ]
    }
   ],
   "source": [
    "!pip freeze"
   ]
  },
  {
   "cell_type": "code",
   "execution_count": null,
   "metadata": {},
   "outputs": [],
   "source": []
  }
 ],
 "metadata": {
  "kernelspec": {
   "display_name": "Python 3",
   "language": "python",
   "name": "python3"
  },
  "language_info": {
   "codemirror_mode": {
    "name": "ipython",
    "version": 3
   },
   "file_extension": ".py",
   "mimetype": "text/x-python",
   "name": "python",
   "nbconvert_exporter": "python",
   "pygments_lexer": "ipython3",
   "version": "3.6.4"
  }
 },
 "nbformat": 4,
 "nbformat_minor": 2
}
