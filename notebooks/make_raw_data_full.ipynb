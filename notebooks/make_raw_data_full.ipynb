{
 "cells": [
  {
   "cell_type": "code",
   "execution_count": 1,
   "metadata": {},
   "outputs": [],
   "source": [
    "from pathlib import Path\n",
    "import pandas as pd\n",
    "import pickle"
   ]
  },
  {
   "cell_type": "code",
   "execution_count": 2,
   "metadata": {},
   "outputs": [],
   "source": [
    "raw_path = Path.cwd().parent / 'data/raw'"
   ]
  },
  {
   "cell_type": "code",
   "execution_count": 3,
   "metadata": {},
   "outputs": [],
   "source": [
    "dw_files = [f.name for f in raw_path.glob('*discover-weekly.pkl')]"
   ]
  },
  {
   "cell_type": "code",
   "execution_count": 14,
   "metadata": {},
   "outputs": [],
   "source": [
    "def build_combined_dw_df(raw_path, dw_files):\n",
    "    '''\n",
    "    build the dataset of all discover weekly playlests\n",
    "    \n",
    "    raw_path - directory containing weekly dw data\n",
    "    dw_files - generator of all dw data files\n",
    "    '''\n",
    "    pickles = [f.name for f in raw_path.glob('*.pkl')]\n",
    "    if 'dw_combined.pkl' not in pickles:\n",
    "        # combine all existing discover weekly datasets\n",
    "        df = pd.concat([pd.read_pickle(raw_path / f) for f in dw_files])\n",
    "        \n",
    "        # popularity can change (future project?)\n",
    "        df = df.drop_duplicates(df.columns.drop('popularity'))\n",
    "        df.to_pickle('dw_combined.pkl')\n",
    "    elif 'dw_combined.pkl' in raw_path:    # add only new files\n",
    "        # load existing dataset\n",
    "        df = pd.read_csv(raw_path / 'dw_combined.pkl')\n",
    "        # get all existing dates\n",
    "        dw_dates = df['time_added'].str[:10].unique()\n",
    "        # if a file has a date greater than latest in existing dataset, add it to dataset\n",
    "        for f in raw_path.glob('*discover-weekly.pkl'):\n",
    "            temp_df = pd.read_pickle(f)\n",
    "            playlist_date = temp_df['time_added'].str[:10].unique()\n",
    "            if playlist_date > max(dw_dates):\n",
    "                df = df.concat(temp_df)\n",
    "            else:\n",
    "                pass\n",
    "        \n",
    "    return df.drop_duplicates(df.columns.drop('popularity'))"
   ]
  },
  {
   "cell_type": "code",
   "execution_count": 19,
   "metadata": {},
   "outputs": [],
   "source": [
    "df = build_combined_dw_df(raw_path, dw_files)\n",
    "df.to_pickle(raw_path / 'dw_combined.pkl')"
   ]
  }
 ],
 "metadata": {
  "kernelspec": {
   "display_name": "Python 3",
   "language": "python",
   "name": "python3"
  },
  "language_info": {
   "codemirror_mode": {
    "name": "ipython",
    "version": 3
   },
   "file_extension": ".py",
   "mimetype": "text/x-python",
   "name": "python",
   "nbconvert_exporter": "python",
   "pygments_lexer": "ipython3",
   "version": "3.7.5"
  }
 },
 "nbformat": 4,
 "nbformat_minor": 4
}
