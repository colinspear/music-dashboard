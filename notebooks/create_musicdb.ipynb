{
 "cells": [
  {
   "cell_type": "markdown",
   "metadata": {},
   "source": [
    "# Load data into local PostgreSQL database"
   ]
  },
  {
   "cell_type": "markdown",
   "metadata": {},
   "source": [
    "Create a PostgreSQL database and populate a table using a csv file.\n",
    "\n",
    "Make sure you have [postgres installed on your machine](https://blog.timescale.com/tutorials/how-to-install-psql-on-mac-ubuntu-debian-windows/), [your server is running](https://www.postgresql.org/docs/9.1/server-start.html) and [your path variable is set](https://www.postgresql.org/docs/9.1/install-post.html). \n",
    "\n",
    "Once you have done that and you find yourself at the psql command line (`postgres=+`), create a database. Somewhat paradoxically, you need to have a pre-existing database to connect with psycopg2 in order to create a database. Gotta have a db to make a db. You can make a database from the postgres command line like so:\n",
    "\n",
    "```\n",
    "CREATE DATABASE music_test;\n",
    "```\n",
    "\n",
    "If you want to give another user access to this database you can do so with the following commands:\n",
    "\n",
    "```\n",
    "CREATE USER music_man with encrypted password 'epic_shredder_brah';\n",
    "GRANT ALL PRIVILEGES ON DATABASE music_test TO music_man;\n",
    "```\n",
    "\n",
    "To confirm that these commands worked, you can use the `\\l` command from the postgres command line:"
   ]
  },
  {
   "cell_type": "markdown",
   "metadata": {},
   "source": [
    "```\n",
    "postgres=# \\l\n",
    "                                List of databases\n",
    "    Name    |   Owner    | Encoding | Collate | Ctype |     Access privileges     \n",
    "------------+------------+----------+---------+-------+---------------------------\n",
    " music_test | colinspear | UTF8     | C       | C     | =Tc/colinspear           +\n",
    "            |            |          |         |       | colinspear=CTc/colinspear+\n",
    "            |            |          |         |       | music_man=CTc/colinspear\n",
    " postgres   | colinspear | UTF8     | C       | C     | \n",
    " \n",
    "```"
   ]
  },
  {
   "cell_type": "markdown",
   "metadata": {},
   "source": [
    "If you also want this user to be able to create databases, you will will also need to do that explicitly:\n",
    "\n",
    "```\n",
    "ALTER USER music_man CREATEDB;\n",
    "```\n",
    "\n",
    "If that command returns `ALTER ROLE`, you should be in business. You can also see what roles exist, their permissions and what groups they are a part of on your server with the `\\dg` command:"
   ]
  },
  {
   "cell_type": "markdown",
   "metadata": {},
   "source": [
    "```\n",
    "postgres=# \\dg\n",
    "                                    List of roles\n",
    " Role name  |                         Attributes                         | Member of \n",
    "------------+------------------------------------------------------------+-----------\n",
    " colinspear | Superuser, Create role, Create DB, Replication, Bypass RLS | {}\n",
    " music_man  | Create DB                                                  | {}\n",
    " ```"
   ]
  },
  {
   "cell_type": "markdown",
   "metadata": {},
   "source": [
    "If it's just you that will be using the database, you should just be able to use the master account you created when installing PostreSQL. If you are looking for a good introduction to PostgreSQL roles and users, I found [this article](https://aws.amazon.com/blogs/database/managing-postgresql-users-and-roles/) super informative.\n",
    "\n",
    "Now that that's all done, let's make a databse and a table with psycopg2! First we will import the libraries we need and make our connection to the database we created above:"
   ]
  },
  {
   "cell_type": "code",
   "execution_count": 3,
   "metadata": {},
   "outputs": [],
   "source": [
    "from psycopg2 import connect, extensions\n",
    "\n",
    "con = connect(\n",
    "    dbname='music_test',\n",
    "    user='music_man', \n",
    "    host='localhost',\n",
    "    password='epic_shredder_brah'\n",
    ")"
   ]
  },
  {
   "cell_type": "markdown",
   "metadata": {},
   "source": [
    "There are two main psycopg2 objects we'll be interested in here: the connection (which we created above) and the cursor (which we will create in just a minute). The connection establishes our phone line to the database (creates a *persistent client session*), while the cursor is used by the connection to place our call. In other words, the connection object establishes a connection, while the cursor executes the commands. In order to get our lackey the cursor to shlep our commands back and forth, we have the `execute()` method to which we feed our SQL queries. To illustrate all of this, we will make a simple users table we can insert some fake data into:"
   ]
  },
  {
   "cell_type": "code",
   "execution_count": 2,
   "metadata": {},
   "outputs": [],
   "source": [
    "cursor = con.cursor()"
   ]
  },
  {
   "cell_type": "code",
   "execution_count": 3,
   "metadata": {},
   "outputs": [],
   "source": [
    "cursor.execute(\"\"\"\n",
    "    create table users(\n",
    "        id integer PRIMARY KEY,\n",
    "        email text,\n",
    "        name text,\n",
    "        address text\n",
    ")\n",
    "\"\"\")"
   ]
  },
  {
   "cell_type": "markdown",
   "metadata": {},
   "source": [
    "One way to add rows to the database is by passing a SQL command as a string to `execute()`. You can do this one row at a time, typing in the values, or you can package your data in a list of tuples and loop over this list using as shown below. Once we have inserted all of the data"
   ]
  },
  {
   "cell_type": "code",
   "execution_count": 4,
   "metadata": {},
   "outputs": [],
   "source": [
    "cursor.execute(\n",
    "    \"INSERT INTO users VALUES (1, 'test@example.ca', 'Kamala Harris', '123 B St.')\"\n",
    ")"
   ]
  },
  {
   "cell_type": "markdown",
   "metadata": {},
   "source": [
    "This works fine if you want to write your own SQL statements, but there will probably come a time where you have some data and it doesn't make sense to write it all in to a SQL command. For this there are other methods, such as `execute_many` which takes a list of tuples containing your data and inserts them into your database with one command:"
   ]
  },
  {
   "cell_type": "code",
   "execution_count": 5,
   "metadata": {},
   "outputs": [],
   "source": [
    "data = [\n",
    "    (11, \"hello@world.atom\", \"Quark Fromage\", \"999 Entropy Blvd.\"),\n",
    "    (12, \"rodney@dangerfield.golf\", \"Rod Danger\", \"420 Beerthirty St.\"),\n",
    "    (13, \"another@email.fun\", \"Karen Park\", \"124 Another Lane\")\n",
    "]\n",
    "\n",
    "cursor.executemany('INSERT INTO users VALUES (%s, %s, %s, %s)', data)"
   ]
  },
  {
   "cell_type": "code",
   "execution_count": 6,
   "metadata": {},
   "outputs": [],
   "source": [
    "cursor.execute('select * from users')"
   ]
  },
  {
   "cell_type": "markdown",
   "metadata": {},
   "source": [
    "The cursor will stockpile our queries until we tell it to go by calling the `commit()` method, at which point it will execute the queries in the order they were received. Use `rollback()` to discard the queries you have made since opening up the previous connection."
   ]
  },
  {
   "cell_type": "code",
   "execution_count": 7,
   "metadata": {},
   "outputs": [],
   "source": [
    "con.commit()"
   ]
  },
  {
   "cell_type": "markdown",
   "metadata": {},
   "source": [
    "Hopefully, this will all have gone according to plan and you will be met with beautiful silence. But hold up. Where is our data? Turns out the cursor is still holding on to it. To fetch, we (fittingly) have the cursor methods `fetchone()` and `fetchall()`. Here I'll just grab it all. Careful though, you can only fetch once before your results are lost to the wind."
   ]
  },
  {
   "cell_type": "code",
   "execution_count": 9,
   "metadata": {},
   "outputs": [
    {
     "data": {
      "text/plain": [
       "[]"
      ]
     },
     "execution_count": 9,
     "metadata": {},
     "output_type": "execute_result"
    }
   ],
   "source": [
    "cursor.fetchall()"
   ]
  },
  {
   "cell_type": "code",
   "execution_count": 10,
   "metadata": {},
   "outputs": [],
   "source": [
    "con.close()"
   ]
  },
  {
   "cell_type": "markdown",
   "metadata": {},
   "source": [
    "Now, what I really want to do is load the Spotify Discover Weekly data I have been collecting over the last year into a table. Instead of adding a table to the test database we've been using up to this point, we'll first create a new database, create a `songs` table and then use the `copy_from()` method to load a csv with the song data into a table. \n",
    "\n",
    "The first thing we have to do is change the isolation level setting. Basically isolation level concerns when and how changes are made to a database. It safeguards against multiple  conflicting changes being made to the database at once. The default for PostgreSQL servers is typically `READ COMMITTED`  which means any data read is committed at the moment it is read (i.e. when you call `commit()` on your connection). Whenever you open a new connection using psycopg2, you initiate a transaction. Whenever you call `commit()` the transaction is written.\n",
    "\n",
    "In psycopg2, there are a few SQL commands that are not allowed to happen within a transaction - they need to be exectued as soon as they are passed to the `execute()` function. `CREATE DATABASE` is one of these commands. In order to make this happen, we need to set the isolation level to autocommit, which will do exactly that:"
   ]
  },
  {
   "cell_type": "code",
   "execution_count": 11,
   "metadata": {},
   "outputs": [],
   "source": [
    "con = connect(\n",
    "    dbname='music_test',\n",
    "    user='music_man', \n",
    "    host='localhost',\n",
    "    password='epic_shredder_brah'\n",
    ")\n",
    "\n",
    "\n",
    "con.set_isolation_level(extensions.ISOLATION_LEVEL_AUTOCOMMIT)\n",
    "cur = con.cursor()\n",
    "\n",
    "cur.execute(\"CREATE DATABASE discover_weekly\")\n",
    "con.close()"
   ]
  },
  {
   "cell_type": "markdown",
   "metadata": {},
   "source": [
    "Closing the connection after creating the new database means I can open a new connection for making the songs table using the default isolation level.\n",
    "\n",
    "Now we can connect to our new database, create and populate our table and check that it worked. I am going to use the psycopg2 objects as [context managers](https://docs.python.org/3/reference/datamodel.html#context-managers) which will close them immediately once we leave the with block. This way we don't have to worry about closing it manually."
   ]
  },
  {
   "cell_type": "code",
   "execution_count": 42,
   "metadata": {},
   "outputs": [],
   "source": [
    "conn = connect(\n",
    "    database = 'discover_weekly',\n",
    "    user = 'music_man',\n",
    "    password = 'epic_shredder_brah',\n",
    "    host = 'localhost'\n",
    ")\n",
    "\n",
    "with conn.cursor() as curs:\n",
    "    curs.execute('''\n",
    "        create table songs(\n",
    "            time_added timestamp,\n",
    "            release_date date,\n",
    "            release_date_precision varchar,\n",
    "            artist_name varchar,\n",
    "            artist_id varchar,\n",
    "            song_id varchar PRIMARY KEY,\n",
    "            song_length_ms integer,\n",
    "            song_name varchar,\n",
    "            popularity integer,\n",
    "            loudness real,\n",
    "            tempo real,\n",
    "            tempo_confidence real,\n",
    "            time_signature integer,\n",
    "            time_sig_conf real,\n",
    "            key integer,\n",
    "            key_confidence real,\n",
    "            mode integer,\n",
    "            mode_confidence real,\n",
    "            danceability real,\n",
    "            energy real,\n",
    "            speechiness real,\n",
    "            acousticness real,\n",
    "            instrumentalness real,\n",
    "            liveness real,\n",
    "            valence real\n",
    "        )\n",
    "    ''')\n",
    "\n",
    "    with open('../data/raw/dw_combined.csv') as f:\n",
    "        next(f)\n",
    "        curs.copy_from(f, 'songs', sep='\\t')\n",
    "\n",
    "conn.commit()"
   ]
  },
  {
   "cell_type": "markdown",
   "metadata": {},
   "source": [
    "And to make sure that all worked, we can open a new cursor and fetch a row:"
   ]
  },
  {
   "cell_type": "code",
   "execution_count": 44,
   "metadata": {},
   "outputs": [
    {
     "name": "stdout",
     "output_type": "stream",
     "text": [
      "(datetime.datetime(2019, 10, 21, 2, 30), datetime.date(2014, 6, 27), 'day', 'Woo', '5KqOWuKJPySBjp3mGVBWFR', '6K7LLBiLOcowTl3ECYxjRj', 217131, 'Make Me Tea', 35, -13.417, 151.858, 0.094, 4, 0.97, 10, 0.384, 1, 0.438, 0.553, 0.281, 0.0555, 0.976, 0.0205, 0.323, 0.501)\n"
     ]
    }
   ],
   "source": [
    "with conn.cursor() as curs:\n",
    "    curs.execute('select * from songs limit 1')\n",
    "    print(curs.fetchone())"
   ]
  },
  {
   "cell_type": "code",
   "execution_count": 40,
   "metadata": {},
   "outputs": [],
   "source": [
    "conn.commit()"
   ]
  },
  {
   "cell_type": "code",
   "execution_count": 28,
   "metadata": {},
   "outputs": [
    {
     "ename": "InterfaceError",
     "evalue": "cursor already closed",
     "output_type": "error",
     "traceback": [
      "\u001b[0;31m---------------------------------------------------------------------------\u001b[0m",
      "\u001b[0;31mInterfaceError\u001b[0m                            Traceback (most recent call last)",
      "\u001b[0;32m<ipython-input-28-3cfaf7611771>\u001b[0m in \u001b[0;36m<module>\u001b[0;34m\u001b[0m\n\u001b[0;32m----> 1\u001b[0;31m \u001b[0mcurs\u001b[0m\u001b[0;34m.\u001b[0m\u001b[0mfetchone\u001b[0m\u001b[0;34m(\u001b[0m\u001b[0;34m)\u001b[0m\u001b[0;34m\u001b[0m\u001b[0;34m\u001b[0m\u001b[0m\n\u001b[0m",
      "\u001b[0;31mInterfaceError\u001b[0m: cursor already closed"
     ]
    }
   ],
   "source": [
    "curs.fetchone()"
   ]
  },
  {
   "cell_type": "code",
   "execution_count": 29,
   "metadata": {},
   "outputs": [],
   "source": [
    "c.close()"
   ]
  },
  {
   "cell_type": "markdown",
   "metadata": {},
   "source": [
    "## [Check this blog post out](https://www.alisa-in.tech/post/2021-01-18-de-project/) for an idea of how to show some stats about the loaded data."
   ]
  },
  {
   "cell_type": "code",
   "execution_count": null,
   "metadata": {},
   "outputs": [],
   "source": []
  },
  {
   "cell_type": "code",
   "execution_count": null,
   "metadata": {},
   "outputs": [],
   "source": []
  },
  {
   "cell_type": "code",
   "execution_count": 14,
   "metadata": {},
   "outputs": [],
   "source": [
    "import pandas as pd\n",
    "df = pd.read_pickle('../data/raw/dw_combined.pkl')\n",
    "df['time_added'] = pd.to_datetime(df['time_added'])\n",
    "df['time_added'] = df['time_added'].dt.tz_localize(None)\n",
    "df['release_date'] = pd.to_datetime(df['release_date'])"
   ]
  },
  {
   "cell_type": "code",
   "execution_count": 15,
   "metadata": {},
   "outputs": [
    {
     "name": "stdout",
     "output_type": "stream",
     "text": [
      "<class 'pandas.core.frame.DataFrame'>\n",
      "Int64Index: 300 entries, 0 to 29\n",
      "Data columns (total 25 columns):\n",
      " #   Column                  Non-Null Count  Dtype         \n",
      "---  ------                  --------------  -----         \n",
      " 0   time_added              300 non-null    datetime64[ns]\n",
      " 1   release_date            300 non-null    datetime64[ns]\n",
      " 2   release_date_precision  300 non-null    object        \n",
      " 3   artist_name             300 non-null    object        \n",
      " 4   artist_id               300 non-null    object        \n",
      " 5   song_id                 300 non-null    object        \n",
      " 6   song_length_ms          300 non-null    int64         \n",
      " 7   song_name               300 non-null    object        \n",
      " 8   popularity              300 non-null    int64         \n",
      " 9   loudness                300 non-null    float64       \n",
      " 10  tempo                   300 non-null    float64       \n",
      " 11  tempo_confidence        300 non-null    float64       \n",
      " 12  time_signature          300 non-null    int64         \n",
      " 13  time_sig_conf           300 non-null    float64       \n",
      " 14  key                     300 non-null    int64         \n",
      " 15  key_confidence          300 non-null    float64       \n",
      " 16  mode                    300 non-null    int64         \n",
      " 17  mode_confidence         300 non-null    float64       \n",
      " 18  danceability            300 non-null    float64       \n",
      " 19  energy                  300 non-null    float64       \n",
      " 20  speechiness             300 non-null    float64       \n",
      " 21  acousticness            300 non-null    float64       \n",
      " 22  instrumentalness        300 non-null    float64       \n",
      " 23  liveness                300 non-null    float64       \n",
      " 24  valence                 300 non-null    float64       \n",
      "dtypes: datetime64[ns](2), float64(13), int64(5), object(5)\n",
      "memory usage: 60.9+ KB\n"
     ]
    }
   ],
   "source": [
    "df.info()"
   ]
  },
  {
   "cell_type": "code",
   "execution_count": 32,
   "metadata": {},
   "outputs": [],
   "source": [
    "df.to_csv('../data/raw/dw_combined.csv', sep='\\t', index=False)"
   ]
  },
  {
   "cell_type": "code",
   "execution_count": 30,
   "metadata": {},
   "outputs": [
    {
     "data": {
      "text/html": [
       "<div>\n",
       "<style scoped>\n",
       "    .dataframe tbody tr th:only-of-type {\n",
       "        vertical-align: middle;\n",
       "    }\n",
       "\n",
       "    .dataframe tbody tr th {\n",
       "        vertical-align: top;\n",
       "    }\n",
       "\n",
       "    .dataframe thead th {\n",
       "        text-align: right;\n",
       "    }\n",
       "</style>\n",
       "<table border=\"1\" class=\"dataframe\">\n",
       "  <thead>\n",
       "    <tr style=\"text-align: right;\">\n",
       "      <th></th>\n",
       "      <th>time_added</th>\n",
       "      <th>release_date</th>\n",
       "      <th>release_date_precision</th>\n",
       "      <th>artist_name</th>\n",
       "      <th>artist_id</th>\n",
       "      <th>song_id</th>\n",
       "      <th>song_length_ms</th>\n",
       "      <th>song_name</th>\n",
       "      <th>popularity</th>\n",
       "      <th>loudness</th>\n",
       "      <th>...</th>\n",
       "      <th>key_confidence</th>\n",
       "      <th>mode</th>\n",
       "      <th>mode_confidence</th>\n",
       "      <th>danceability</th>\n",
       "      <th>energy</th>\n",
       "      <th>speechiness</th>\n",
       "      <th>acousticness</th>\n",
       "      <th>instrumentalness</th>\n",
       "      <th>liveness</th>\n",
       "      <th>valence</th>\n",
       "    </tr>\n",
       "  </thead>\n",
       "  <tbody>\n",
       "    <tr>\n",
       "      <th>5</th>\n",
       "      <td>2019-10-28 02:30:00</td>\n",
       "      <td>2015-03-23</td>\n",
       "      <td>day</td>\n",
       "      <td>Happyness</td>\n",
       "      <td>4nddgNqdf0SFeeqhbDN6rN</td>\n",
       "      <td>0P9ryrwnRQSTPsDXAonq8W</td>\n",
       "      <td>537159</td>\n",
       "      <td>Weird Little Birthday Girl</td>\n",
       "      <td>41</td>\n",
       "      <td>-14.731</td>\n",
       "      <td>...</td>\n",
       "      <td>0.550</td>\n",
       "      <td>1</td>\n",
       "      <td>0.671</td>\n",
       "      <td>0.641</td>\n",
       "      <td>0.307</td>\n",
       "      <td>0.0455</td>\n",
       "      <td>0.54000</td>\n",
       "      <td>0.864000</td>\n",
       "      <td>0.0915</td>\n",
       "      <td>0.294</td>\n",
       "    </tr>\n",
       "    <tr>\n",
       "      <th>6</th>\n",
       "      <td>2019-10-28 02:30:00</td>\n",
       "      <td>2012-10-01</td>\n",
       "      <td>day</td>\n",
       "      <td>Tim Maia</td>\n",
       "      <td>0jOs0wnXCu1bGGP7kh5uIu</td>\n",
       "      <td>41MeQZ4xHRLtPZQ50L2msF</td>\n",
       "      <td>240040</td>\n",
       "      <td>Where is My Other Half</td>\n",
       "      <td>32</td>\n",
       "      <td>-8.916</td>\n",
       "      <td>...</td>\n",
       "      <td>0.660</td>\n",
       "      <td>0</td>\n",
       "      <td>0.540</td>\n",
       "      <td>0.463</td>\n",
       "      <td>0.519</td>\n",
       "      <td>0.0418</td>\n",
       "      <td>0.79800</td>\n",
       "      <td>0.032800</td>\n",
       "      <td>0.1030</td>\n",
       "      <td>0.325</td>\n",
       "    </tr>\n",
       "    <tr>\n",
       "      <th>7</th>\n",
       "      <td>2019-10-28 02:30:00</td>\n",
       "      <td>2018-11-30</td>\n",
       "      <td>day</td>\n",
       "      <td>Foxwarren</td>\n",
       "      <td>2dPIBvg7mU59dCTGjhPylV</td>\n",
       "      <td>0W1vFF5qyLJUvQbTGOXVOW</td>\n",
       "      <td>296920</td>\n",
       "      <td>Fall Into A Dream</td>\n",
       "      <td>27</td>\n",
       "      <td>-9.976</td>\n",
       "      <td>...</td>\n",
       "      <td>0.626</td>\n",
       "      <td>0</td>\n",
       "      <td>0.622</td>\n",
       "      <td>0.748</td>\n",
       "      <td>0.356</td>\n",
       "      <td>0.0420</td>\n",
       "      <td>0.67300</td>\n",
       "      <td>0.087500</td>\n",
       "      <td>0.1760</td>\n",
       "      <td>0.149</td>\n",
       "    </tr>\n",
       "    <tr>\n",
       "      <th>8</th>\n",
       "      <td>2019-10-28 02:30:00</td>\n",
       "      <td>2014-08-04</td>\n",
       "      <td>day</td>\n",
       "      <td>Javier Bergia</td>\n",
       "      <td>00UEHtbE9afbslwaeYm9mw</td>\n",
       "      <td>1jrZQZNAQ5trykH0IGxTMR</td>\n",
       "      <td>319130</td>\n",
       "      <td>Midnight Round Mekines - Original Mix</td>\n",
       "      <td>34</td>\n",
       "      <td>-8.539</td>\n",
       "      <td>...</td>\n",
       "      <td>0.832</td>\n",
       "      <td>1</td>\n",
       "      <td>0.692</td>\n",
       "      <td>0.683</td>\n",
       "      <td>0.699</td>\n",
       "      <td>0.0353</td>\n",
       "      <td>0.34100</td>\n",
       "      <td>0.079000</td>\n",
       "      <td>0.1330</td>\n",
       "      <td>0.829</td>\n",
       "    </tr>\n",
       "    <tr>\n",
       "      <th>9</th>\n",
       "      <td>2019-10-28 02:30:00</td>\n",
       "      <td>2019-09-24</td>\n",
       "      <td>day</td>\n",
       "      <td>The Good Ones</td>\n",
       "      <td>7rIF4gQrWPRDL020SG2eKD</td>\n",
       "      <td>2bOklmZZSC5FiqVB13BXFZ</td>\n",
       "      <td>277800</td>\n",
       "      <td>Where Did You Go Wrong, My Love</td>\n",
       "      <td>32</td>\n",
       "      <td>-8.447</td>\n",
       "      <td>...</td>\n",
       "      <td>0.821</td>\n",
       "      <td>0</td>\n",
       "      <td>0.728</td>\n",
       "      <td>0.519</td>\n",
       "      <td>0.495</td>\n",
       "      <td>0.0347</td>\n",
       "      <td>0.81600</td>\n",
       "      <td>0.000013</td>\n",
       "      <td>0.0977</td>\n",
       "      <td>0.634</td>\n",
       "    </tr>\n",
       "    <tr>\n",
       "      <th>10</th>\n",
       "      <td>2019-10-28 02:30:00</td>\n",
       "      <td>2018-07-18</td>\n",
       "      <td>day</td>\n",
       "      <td>Mildlife</td>\n",
       "      <td>1lsJmnN90u3KBvF3tGEWr3</td>\n",
       "      <td>4EsXLIwB7t00KH4iz8BVNA</td>\n",
       "      <td>682746</td>\n",
       "      <td>Phase II</td>\n",
       "      <td>7</td>\n",
       "      <td>-8.126</td>\n",
       "      <td>...</td>\n",
       "      <td>0.761</td>\n",
       "      <td>0</td>\n",
       "      <td>0.690</td>\n",
       "      <td>0.443</td>\n",
       "      <td>0.614</td>\n",
       "      <td>0.0375</td>\n",
       "      <td>0.27800</td>\n",
       "      <td>0.740000</td>\n",
       "      <td>0.0803</td>\n",
       "      <td>0.132</td>\n",
       "    </tr>\n",
       "    <tr>\n",
       "      <th>11</th>\n",
       "      <td>2019-10-28 02:30:00</td>\n",
       "      <td>2018-03-23</td>\n",
       "      <td>day</td>\n",
       "      <td>Bonny Doon</td>\n",
       "      <td>0AL8XXRh7fUrHAMLoDv9rn</td>\n",
       "      <td>0aEwbmIKDdv94O1sm38Y2B</td>\n",
       "      <td>198380</td>\n",
       "      <td>A Lotta Things</td>\n",
       "      <td>49</td>\n",
       "      <td>-7.979</td>\n",
       "      <td>...</td>\n",
       "      <td>0.667</td>\n",
       "      <td>1</td>\n",
       "      <td>0.686</td>\n",
       "      <td>0.482</td>\n",
       "      <td>0.472</td>\n",
       "      <td>0.0258</td>\n",
       "      <td>0.05840</td>\n",
       "      <td>0.169000</td>\n",
       "      <td>0.1120</td>\n",
       "      <td>0.341</td>\n",
       "    </tr>\n",
       "    <tr>\n",
       "      <th>12</th>\n",
       "      <td>2019-10-28 02:30:00</td>\n",
       "      <td>2019-07-10</td>\n",
       "      <td>day</td>\n",
       "      <td>Sam Evian</td>\n",
       "      <td>5MXsi1oKkm8LuStuKkMdzu</td>\n",
       "      <td>4UbBr8ZQB26757ah0zeRDU</td>\n",
       "      <td>267962</td>\n",
       "      <td>Right Down the Line</td>\n",
       "      <td>43</td>\n",
       "      <td>-8.637</td>\n",
       "      <td>...</td>\n",
       "      <td>0.473</td>\n",
       "      <td>1</td>\n",
       "      <td>0.571</td>\n",
       "      <td>0.750</td>\n",
       "      <td>0.649</td>\n",
       "      <td>0.0302</td>\n",
       "      <td>0.04830</td>\n",
       "      <td>0.040300</td>\n",
       "      <td>0.0784</td>\n",
       "      <td>0.606</td>\n",
       "    </tr>\n",
       "    <tr>\n",
       "      <th>13</th>\n",
       "      <td>2019-10-28 02:30:00</td>\n",
       "      <td>2016-09-30</td>\n",
       "      <td>day</td>\n",
       "      <td>Adam Torres</td>\n",
       "      <td>4wIdxySSxqlIirsqE0JKx8</td>\n",
       "      <td>112nYSRSK3kZjtJrzWRbdj</td>\n",
       "      <td>360946</td>\n",
       "      <td>Juniper Arms</td>\n",
       "      <td>8</td>\n",
       "      <td>-11.985</td>\n",
       "      <td>...</td>\n",
       "      <td>1.000</td>\n",
       "      <td>1</td>\n",
       "      <td>0.599</td>\n",
       "      <td>0.396</td>\n",
       "      <td>0.208</td>\n",
       "      <td>0.0282</td>\n",
       "      <td>0.86500</td>\n",
       "      <td>0.318000</td>\n",
       "      <td>0.1070</td>\n",
       "      <td>0.117</td>\n",
       "    </tr>\n",
       "    <tr>\n",
       "      <th>14</th>\n",
       "      <td>2019-10-28 02:30:00</td>\n",
       "      <td>2017-06-09</td>\n",
       "      <td>day</td>\n",
       "      <td>Supergombo</td>\n",
       "      <td>2IRev1maVOLaKbFofZ7AtB</td>\n",
       "      <td>4Wlwt72CajQUVcOt7IS9RW</td>\n",
       "      <td>322320</td>\n",
       "      <td>Marquis Warren</td>\n",
       "      <td>33</td>\n",
       "      <td>-6.338</td>\n",
       "      <td>...</td>\n",
       "      <td>0.633</td>\n",
       "      <td>1</td>\n",
       "      <td>0.631</td>\n",
       "      <td>0.611</td>\n",
       "      <td>0.829</td>\n",
       "      <td>0.0418</td>\n",
       "      <td>0.00368</td>\n",
       "      <td>0.672000</td>\n",
       "      <td>0.2900</td>\n",
       "      <td>0.823</td>\n",
       "    </tr>\n",
       "  </tbody>\n",
       "</table>\n",
       "<p>10 rows × 25 columns</p>\n",
       "</div>"
      ],
      "text/plain": [
       "            time_added release_date release_date_precision    artist_name  \\\n",
       "5  2019-10-28 02:30:00   2015-03-23                    day      Happyness   \n",
       "6  2019-10-28 02:30:00   2012-10-01                    day       Tim Maia   \n",
       "7  2019-10-28 02:30:00   2018-11-30                    day      Foxwarren   \n",
       "8  2019-10-28 02:30:00   2014-08-04                    day  Javier Bergia   \n",
       "9  2019-10-28 02:30:00   2019-09-24                    day  The Good Ones   \n",
       "10 2019-10-28 02:30:00   2018-07-18                    day       Mildlife   \n",
       "11 2019-10-28 02:30:00   2018-03-23                    day     Bonny Doon   \n",
       "12 2019-10-28 02:30:00   2019-07-10                    day      Sam Evian   \n",
       "13 2019-10-28 02:30:00   2016-09-30                    day    Adam Torres   \n",
       "14 2019-10-28 02:30:00   2017-06-09                    day     Supergombo   \n",
       "\n",
       "                 artist_id                 song_id  song_length_ms  \\\n",
       "5   4nddgNqdf0SFeeqhbDN6rN  0P9ryrwnRQSTPsDXAonq8W          537159   \n",
       "6   0jOs0wnXCu1bGGP7kh5uIu  41MeQZ4xHRLtPZQ50L2msF          240040   \n",
       "7   2dPIBvg7mU59dCTGjhPylV  0W1vFF5qyLJUvQbTGOXVOW          296920   \n",
       "8   00UEHtbE9afbslwaeYm9mw  1jrZQZNAQ5trykH0IGxTMR          319130   \n",
       "9   7rIF4gQrWPRDL020SG2eKD  2bOklmZZSC5FiqVB13BXFZ          277800   \n",
       "10  1lsJmnN90u3KBvF3tGEWr3  4EsXLIwB7t00KH4iz8BVNA          682746   \n",
       "11  0AL8XXRh7fUrHAMLoDv9rn  0aEwbmIKDdv94O1sm38Y2B          198380   \n",
       "12  5MXsi1oKkm8LuStuKkMdzu  4UbBr8ZQB26757ah0zeRDU          267962   \n",
       "13  4wIdxySSxqlIirsqE0JKx8  112nYSRSK3kZjtJrzWRbdj          360946   \n",
       "14  2IRev1maVOLaKbFofZ7AtB  4Wlwt72CajQUVcOt7IS9RW          322320   \n",
       "\n",
       "                                song_name  popularity  loudness  ...  \\\n",
       "5              Weird Little Birthday Girl          41   -14.731  ...   \n",
       "6                  Where is My Other Half          32    -8.916  ...   \n",
       "7                       Fall Into A Dream          27    -9.976  ...   \n",
       "8   Midnight Round Mekines - Original Mix          34    -8.539  ...   \n",
       "9         Where Did You Go Wrong, My Love          32    -8.447  ...   \n",
       "10                               Phase II           7    -8.126  ...   \n",
       "11                         A Lotta Things          49    -7.979  ...   \n",
       "12                    Right Down the Line          43    -8.637  ...   \n",
       "13                           Juniper Arms           8   -11.985  ...   \n",
       "14                         Marquis Warren          33    -6.338  ...   \n",
       "\n",
       "    key_confidence  mode  mode_confidence  danceability  energy  speechiness  \\\n",
       "5            0.550     1            0.671         0.641   0.307       0.0455   \n",
       "6            0.660     0            0.540         0.463   0.519       0.0418   \n",
       "7            0.626     0            0.622         0.748   0.356       0.0420   \n",
       "8            0.832     1            0.692         0.683   0.699       0.0353   \n",
       "9            0.821     0            0.728         0.519   0.495       0.0347   \n",
       "10           0.761     0            0.690         0.443   0.614       0.0375   \n",
       "11           0.667     1            0.686         0.482   0.472       0.0258   \n",
       "12           0.473     1            0.571         0.750   0.649       0.0302   \n",
       "13           1.000     1            0.599         0.396   0.208       0.0282   \n",
       "14           0.633     1            0.631         0.611   0.829       0.0418   \n",
       "\n",
       "    acousticness  instrumentalness  liveness  valence  \n",
       "5        0.54000          0.864000    0.0915    0.294  \n",
       "6        0.79800          0.032800    0.1030    0.325  \n",
       "7        0.67300          0.087500    0.1760    0.149  \n",
       "8        0.34100          0.079000    0.1330    0.829  \n",
       "9        0.81600          0.000013    0.0977    0.634  \n",
       "10       0.27800          0.740000    0.0803    0.132  \n",
       "11       0.05840          0.169000    0.1120    0.341  \n",
       "12       0.04830          0.040300    0.0784    0.606  \n",
       "13       0.86500          0.318000    0.1070    0.117  \n",
       "14       0.00368          0.672000    0.2900    0.823  \n",
       "\n",
       "[10 rows x 25 columns]"
      ]
     },
     "execution_count": 30,
     "metadata": {},
     "output_type": "execute_result"
    }
   ],
   "source": [
    "df[35:45]"
   ]
  },
  {
   "cell_type": "code",
   "execution_count": null,
   "metadata": {},
   "outputs": [],
   "source": []
  },
  {
   "cell_type": "markdown",
   "metadata": {},
   "source": [
    "[1] This is not necessarily trivial. Two things that may get you caught up areDon't forget to set your path variable (`export PATH=Path/to/PostgreSQL/Version/bin/:$PATH` at the command line). I also had some permissions errors and got around them by using sudo privileges: `sudo -u postgres psql`\n",
    "\n",
    "[3] Thanks to [this article](https://kb.objectrocket.com/postgresql/create-a-postgresql-database-using-the-psycopg2-python-library-755) for these setup tips."
   ]
  },
  {
   "cell_type": "code",
   "execution_count": null,
   "metadata": {},
   "outputs": [],
   "source": []
  }
 ],
 "metadata": {
  "kernelspec": {
   "display_name": "Python 3",
   "language": "python",
   "name": "python3"
  },
  "language_info": {
   "codemirror_mode": {
    "name": "ipython",
    "version": 3
   },
   "file_extension": ".py",
   "mimetype": "text/x-python",
   "name": "python",
   "nbconvert_exporter": "python",
   "pygments_lexer": "ipython3",
   "version": "3.9.1"
  }
 },
 "nbformat": 4,
 "nbformat_minor": 4
}
