{
 "cells": [
  {
   "cell_type": "markdown",
   "metadata": {},
   "source": [
    "Takes results of the Spotify saved songs scrape and collects lyrics using Genius API"
   ]
  },
  {
   "cell_type": "code",
   "execution_count": 3,
   "metadata": {},
   "outputs": [],
   "source": [
    "#import pandas as pd\n",
    "import requests\n",
    "import lyricsgenius as genius\n",
    "\n",
    "#df = pd.read_pickle('starred_songs.pkl')"
   ]
  },
  {
   "cell_type": "code",
   "execution_count": 4,
   "metadata": {},
   "outputs": [],
   "source": [
    "#songs = df[['artist_name', 'song_name']].values"
   ]
  },
  {
   "cell_type": "code",
   "execution_count": 5,
   "metadata": {},
   "outputs": [],
   "source": [
    "access_token = 'ntc74JBCAkBLNUglVKHl0vyawpu9dzOk6X_krDgpdrRUVTsVc5V5TWLwHd79DOlz'"
   ]
  },
  {
   "cell_type": "code",
   "execution_count": 6,
   "metadata": {},
   "outputs": [],
   "source": [
    "base_url = \"http://api.genius.com\"\n",
    "#Key line below here when, this is how to authorize your request when\n",
    "#using the API\n",
    "headers = {'Authorization': 'Bearer ' + access_token}\n",
    "search_url = base_url + \"/search\"\n",
    "song_title = \"The Serpent is Kind (Compared to Man)\"\n",
    "params = {'q': song_title}\n",
    "response = requests.get(search_url, params=params, headers=headers)\n",
    "\n",
    "\n",
    "api = genius.Genius(access_token)"
   ]
  },
  {
   "cell_type": "code",
   "execution_count": 11,
   "metadata": {},
   "outputs": [
    {
     "name": "stdout",
     "output_type": "stream",
     "text": [
      "Searching for songs by Rory Ferreira...\n",
      "\n",
      "Changing artist name to '​milo'\n",
      "Song 1: \"Folk-metaphysics\"\n",
      "Song 2: \"​souvenir\"\n",
      "Song 3: \"​an encyclopedia\"\n",
      "Song 4: \"​zen scientist\"\n",
      "Song 5: \"Almond Milk Paradise\"\n",
      "Song 6: \"Sweet Chin Music (the fisher king’s anthem)\"\n",
      "Song 7: \"One Lonely Owl\"\n",
      "Song 8: \"Almost cut my hair (for Crosby)\"\n",
      "Song 9: \"​going no place\"\n",
      "Song 10: \"​sorcerer\"\n",
      "Song 11: \"​landscaping\"\n",
      "Song 12: \"​poet (black bean)\"\n",
      "Song 13: \"​re: animist\"\n",
      "Song 14: \"Just Us\"\n",
      "Song 15: \"​call + form (picture)\"\n",
      "Song 16: \"​rabblerouse\"\n",
      "Song 17: \"​napping under the Echo Tree\"\n",
      "Song 18: \"​magician (suture)\"\n",
      "Song 19: \"​true nen\"\n",
      "Song 20: \"Monologion\"\n",
      "Song 21: \"Legends of the hidden temple\"\n",
      "Song 22: \"@yomilo\"\n",
      "Song 23: \"Post hoc ergo propter hoc (for Schopenhauer)\"\n",
      "Song 24: \"​mythbuilding exercise no.9\"\n",
      "Song 25: \"The Ballad of Mermaid Man and Barnacle Boy\"\n",
      "Song 26: \"​song about a raygunn (an ode to Driver)\"\n",
      "Song 27: \"​rapper\"\n",
      "Song 28: \"Salladhor saan, smuggler\"\n",
      "Song 29: \"​take advantage of the naysayer\"\n",
      "Song 30: \"A Lazy Coon’s Obiter Dictum\"\n",
      "Song 31: \"The Thief of Always\"\n",
      "Song 32: \"​the young man has a point (nurture)\"\n",
      "Song 33: \"Geometry and theology\"\n",
      "Song 34: \"​paging mr. bill nunn\"\n",
      "Song 35: \"​note to mrs\"\n",
      "Song 36: \"Objectifying Rabbits\"\n",
      "Song 37: \"Kenosha, WI\"\n",
      "Song 38: \"Folk-Metaphysics, 2nd ed.\"\n",
      "Song 39: \"Ought Implies Can + I Cannot\"\n",
      "Song 40: \"The Gus Haynes Cribbage League\"\n",
      "Song 41: \"​embroidering machine\"\n",
      "Song 42: \"The Otherground Pizza Party\"\n",
      "Song 43: \"​yet another\"\n",
      "Song 44: \"​pablum // CELESKINGIII\"\n",
      "Song 45: \"You are go(o)d to me (editorial length)\"\n",
      "Song 46: \"In Gaol\"\n",
      "Song 47: \"Besos\"\n",
      "Song 48: \"The Confrontation at Khazad-dûm\"\n",
      "Song 49: \"Just us (a reprise for Robert who has not been forgotten)\"\n",
      "Song 50: \"Ecclesiastes\"\n",
      "Song 51: \"​ornette’s swan song\"\n",
      "Song 52: \"Sophistry and illusion\"\n",
      "Song 53: \"​pure scientific intelligence (quantum)\"\n",
      "Song 54: \"Yafet’s song\"\n",
      "Song 55: \"​stet\"\n",
      "Song 56: \"​sanssouci palace (4 years later)\"\n",
      "Song 57: \"Red oleanders\"\n",
      "Song 58: \"Peanut Butter Sandwiches\"\n",
      "Song 59: \"​tiptoe\"\n",
      "Song 60: \"​mid answer trying to remember what the question is\"\n",
      "Song 61: \"Lester Freamon Toe-Taps the Blues\"\n",
      "Song 62: \"​galahad in goosedown (fiat iustitia et pereat mundus)\"\n",
      "Song 63: \"DAVID FOSTER WALLACE\"\n",
      "Song 64: \"Omar Don’t Scare\"\n",
      "Song 65: \"​deposition regarding the green horse for rap\"\n",
      "Song 66: \"The Mumblings of Mr. Wav\"\n",
      "Song 67: \"Sanssouci palace\"\n",
      "Song 68: \"Gaudeamus igitur (for Kang Min-gyu)\"\n",
      "Song 69: \"​failing the stress test (iguessillbeheadingthen)\"\n",
      "Song 70: \"​nominy\"\n",
      "Song 71: \"​idk\"\n",
      "Song 72: \"A day trip to the nightosphere\"\n",
      "Song 73: \"Budding Ornithologists Are Weary of Tired Analogies\"\n",
      "Song 74: \"Argyle Sox (may Hellfyre live longer than any of us)\"\n",
      "Song 75: \"​aubergine cloak\"\n",
      "Song 76: \"Sanguine Spin Cycles\"\n",
      "Song 77: \"MAY THE DAYS BE AIMLESS\"\n",
      "Song 78: \"Prop Joe’s Clock Repair Shop\"\n",
      "Song 79: \"Vinz Clortho meets Zuul\"\n",
      "Song 80: \"Prince Abakaliki of Nigeria needs your help\"\n",
      "Song 81: \"Backpacker’s Sermon from Mount Jansport\"\n",
      "Song 82: \"I am am\"\n",
      "Song 83: \"Mr. Doubt(w)riter\"\n",
      "Song 84: \"Ba’al chiliagon swords\"\n",
      "Song 85: \"​thinking while eating a handful of almonds\"\n",
      "Song 86: \"Fragrant pee farts\"\n",
      "Song 87: \"​the esteemed saboteur reggie baylor hosts an evening at the scallops hotel\"\n",
      "Song 88: \"​lowcoup\"\n",
      "Song 89: \"For the Unheard ProBoard Warriors!\"\n",
      "Song 90: \"Atlas Flushed (Grumpy Groucho Marxist Response)\"\n",
      "Song 91: \"Thatness and whatness\"\n",
      "Song 92: \"​romulan ale\"\n",
      "Song 93: \"Buck 65's Knee\"\n",
      "Song 94: \"Bill Murray’s Prayer\"\n",
      "Song 95: \"Super Happy Sunshine Fun Club\"\n",
      "Song 96: \"Hall 2 with Will’s singing untouched\"\n",
      "Song 97: \"Behold! There Appeared a Chariot of Fire\"\n",
      "Song 98: \"The Elotes Man\"\n",
      "Song 99: \"This Can’t Be The Place (Evil Doer Melody)\"\n",
      "Song 100: \"A Binary Abacus\"\n",
      "Song 101: \"Shinsplints wind breakr pants\"\n",
      "Couldn't find the lyrics section.\n",
      "Couldn't find the lyrics section.\n",
      "Song 102: \"Organon\"\n",
      "Couldn't find the lyrics section.\n",
      "Couldn't find the lyrics section.\n",
      "Couldn't find the lyrics section.\n",
      "Song 103: \"OPPS\"\n",
      "Song 104: \"Milo’s Guest Mix for Tom Ravenscroft\"\n",
      "Couldn't find the lyrics section.\n",
      "Couldn't find the lyrics section.\n",
      "Song 105: \"Amber sucks\"\n",
      "Song 106: \"Rap is Sport\"\n",
      "Song 107: \"Winter\"\n",
      "Song 108: \"Pm\"\n",
      "Done. Found 108 songs.\n"
     ]
    }
   ],
   "source": [
    "song_lyrics_milo = api.search_artist(artist_name='Rory Ferreira')"
   ]
  },
  {
   "cell_type": "code",
   "execution_count": 10,
   "metadata": {},
   "outputs": [
    {
     "name": "stdout",
     "output_type": "stream",
     "text": [
      "Searching for songs by R.A.P. Ferreira...\n",
      "\n",
      "Changing artist name to '​R.A.P. Ferreira'\n",
      "Song 1: \"LEAVING HELL\"\n",
      "Song 2: \"DUST UP\"\n",
      "Song 3: \"CYCLES\"\n",
      "Song 4: \"NONCIPHER\"\n",
      "Song 5: \"GREENS\"\n",
      "Song 6: \"DECORUM\"\n",
      "Song 7: \"DOLDRUMS\"\n",
      "Song 8: \"LAUNDRY\"\n",
      "Song 9: \"AN IDEA IS A WORK OF ART\"\n",
      "Song 10: \"U.D.I.G. (UNITED DEFENDERS OF INTERNATIONAL GOODWILL)\"\n",
      "Song 11: \"RO TALK\"\n",
      "Song 12: \"OMENS & TOTEMS\"\n",
      "Song 13: \"NO STARVING ARTISTS\"\n",
      "Song 14: \"ABSOLUTES\"\n",
      "Song 15: \"MYTHICAL\"\n",
      "Song 16: \"PINBALL\"\n",
      "Song 17: \"GOLDEN SARDINE\"\n",
      "Song 18: \"MASTERPLAN\"\n",
      "Song 19: \"Respectdue\"\n",
      "Song 20: \"Stressrunstheworld\"\n",
      "Song 21: \"Animatronics\"\n",
      "Song 22: \"Dreams\"\n",
      "Song 23: \"Chamber Music\"\n",
      "Song 24: \"Speck\"\n",
      "Song 25: \"Vogueship\"\n",
      "Song 26: \"Baby\"\n",
      "Song 27: \"Nearly There\"\n",
      "Song 28: \"Export The Conundrum\"\n",
      "Song 29: \"Big Business\"\n",
      "Song 30: \"Shinin’\"\n",
      "Song 31: \"Dipthungsumdim\"\n",
      "Song 32: \"Junction\"\n",
      "Song 33: \"MOON\"\n",
      "Song 34: \"The Ruby Yacht Manifesto\"\n",
      "Done. Found 34 songs.\n"
     ]
    }
   ],
   "source": [
    "song_lyrics = api.search_artist(artist_name='R.A.P. Ferreira')"
   ]
  },
  {
   "cell_type": "code",
   "execution_count": 17,
   "metadata": {},
   "outputs": [
    {
     "data": {
      "text/plain": [
       "'[Verse 1: R.A.P. Ferreira]\\nTwisted world where artists bend backwards for benefactors\\nAnd victims are to be blamed as bad\\u2005actors\\nMy\\u2005mind running all\\u2005around\\nPoetry is illegal unless you\\'re under\\u2005the underground\\nDevious with determination\\nSolitude is crowded by isolation\\nWandered wearily for several eternities\\nGaining acclaim, using fake names\\nVanishing by sunrise, committing to the wisdom of the unwise\\nIn buildings where if I wasn\\'t a performer, they wouldn\\'t let me past the foyer\\nHere I am pullin\\' spectacles for the uninitiated voyeurs\\nBut, bein\\' piss poor corrupted the discourse\\nAs power functions on a sliding scale, so you might as well\\nSo you might as well, you know what I\\'m sayin\\'\\n\\n[Hook: R.A.P. Ferreira]\\nAnd that\\'s when I knew I\\'d found\\nMy way out of this hell\\nAnd that\\'s when I knew I\\'d found\\nMy way out of this hell\\n\\n[Verse 2: R.A.P. Ferreira]\\nStrivin\\' to be the type of poet Lorca was\\nWhen one turns their back to lead the orchestra\\nBlack Orpheus, Kepler octahedron\\nHappy recent, eyes buggin\\' like Jackie Gleason\\nTo witness true wonder, that\\'s the reason\\nThat\\'s the reason\\n\\nOne time I was doo-dooin\\' at a gas station and I\\nRead on the stall, you know, on the wall\\n\"What\\'s the purpose of life?\"\\nAnd someone had actually wrote back, it said:\\n\"To be the eyes, the ears, and consciousness of the creator of the universe. You fool!\"\\n\\n[Hook: R.A.P. Ferreira]\\nAnd that\\'s when I knew I\\'d found\\nMy way out of this hell\\nBreak it down, break it down\\nAnd that\\'s when I knew I\\'d found\\nMy way out of this hell\\nThank you, thank you art, thank you music\\nAnd that\\'s when I knew I\\'d found\\nMy way out of this hell'"
      ]
     },
     "execution_count": 17,
     "metadata": {},
     "output_type": "execute_result"
    }
   ],
   "source": [
    "song_lyrics.songs[0].lyrics"
   ]
  },
  {
   "cell_type": "code",
   "execution_count": 23,
   "metadata": {},
   "outputs": [
    {
     "name": "stdout",
     "output_type": "stream",
     "text": [
      "Searching for \"Alger la blanche\" by Nicolas Godin...\n",
      "Specified song was not first result\n",
      "Searching for \"Come Down In Time\" by Bedouine...\n",
      "Specified song was not first result\n",
      "Searching for \"Lay Down In the Tall Grass\" by Timber Timbre...\n",
      "Done.\n",
      "Searching for \"I Want a Little Sugar In My Bowl\" by Nina Simone...\n",
      "Done.\n",
      "Searching for \"The Memory Junkie\" by Club Kuru...\n",
      "Done.\n",
      "Searching for \"Summertime\" by Big Brother & The Holding Company...\n",
      "Specified song was not first result\n",
      "Searching for \"HZLWD\" by Richard Swift...\n",
      "Done.\n",
      "Searching for \"symbol\" by Adrianne Lenker...\n",
      "Done.\n",
      "Searching for \"Over When You Die\" by Dada Plan...\n",
      "Specified song was not first result\n"
     ]
    }
   ],
   "source": [
    "i = len(songs)\n",
    "\n",
    "lyric_dict = dict(\n",
    "    artist=[], \n",
    "    song=[], \n",
    "    lyrics=[], \n",
    "    year=[],\n",
    ")\n",
    "\n",
    "#for i in range(i):\n",
    "for i, song in enumerate(songs):\n",
    "    song_lyrics = api.search_song(song_title=song[1], artist_name=song[0])\n",
    "    \n",
    "    if song_lyrics:\n",
    "        lyric_dict['year'].append(song_lyrics.year)\n",
    "        lyric_dict['artist'].append(song_lyrics.artist)\n",
    "        lyric_dict['lyrics'].append(song_lyrics.lyrics)\n",
    "        lyric_dict['song'].append(song_lyrics.title)\n",
    "    elif i > 5:\n",
    "        break\n",
    "    else:\n",
    "        continue\n"
   ]
  },
  {
   "cell_type": "code",
   "execution_count": 16,
   "metadata": {},
   "outputs": [
    {
     "name": "stdout",
     "output_type": "stream",
     "text": [
      "Lyrics were found for 58.44% (180) of saved songs.\n"
     ]
    }
   ],
   "source": [
    "song_lyric_count = len(lyric_dict['artist'])\n",
    "lyrics_coverage = (song_lyric_count / i)\n",
    "print(\"Lyrics were found for {:.2%} ({}) of saved songs.\".format(lyrics_coverage, song_lyric_count))"
   ]
  },
  {
   "cell_type": "code",
   "execution_count": 19,
   "metadata": {},
   "outputs": [],
   "source": [
    "lyric_df = pd.DataFrame(lyric_dict)\n",
    "pd.to_pickle(lyric_df, 'saved_song_lyrics.pkl')"
   ]
  }
 ],
 "metadata": {
  "kernelspec": {
   "display_name": "Python 3",
   "language": "python",
   "name": "python3"
  },
  "language_info": {
   "codemirror_mode": {
    "name": "ipython",
    "version": 3
   },
   "file_extension": ".py",
   "mimetype": "text/x-python",
   "name": "python",
   "nbconvert_exporter": "python",
   "pygments_lexer": "ipython3",
   "version": "3.9.0"
  }
 },
 "nbformat": 4,
 "nbformat_minor": 4
}
