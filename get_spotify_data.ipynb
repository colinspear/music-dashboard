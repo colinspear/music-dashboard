{
 "cells": [
  {
   "cell_type": "code",
   "execution_count": null,
   "metadata": {},
   "outputs": [],
   "source": []
  },
  {
   "cell_type": "markdown",
   "metadata": {},
   "source": [
    "## Get starred songs"
   ]
  },
  {
   "cell_type": "code",
   "execution_count": 1,
   "metadata": {},
   "outputs": [],
   "source": [
    "# import require modules\n",
    "import sys\n",
    "import spotipy\n",
    "import spotipy.util as util\n",
    "import pandas as pd\n",
    "\n",
    "# spotify api parameters\n",
    "username = 'colinspear1'\n",
    "client_id='ce2cc5f48d51431d80ff674bfba165e5'\n",
    "client_secret='e36aec36c3174decbce246226e6d8b7a'\n",
    "redirect_uri = 'http://localhost/'\n",
    "scope = 'user-library-read'\n",
    "\n",
    "# get token\n",
    "token = util.prompt_for_user_token(\n",
    "    username=username,\n",
    "    scope=scope, \n",
    "    client_id=client_id,\n",
    "    client_secret=client_secret,\n",
    "    redirect_uri=redirect_uri\n",
    ")\n",
    "\n",
    "# instantiate spotipy\n",
    "sp = spotipy.Spotify(auth=token)"
   ]
  },
  {
   "cell_type": "code",
   "execution_count": 2,
   "metadata": {},
   "outputs": [],
   "source": [
    "# collect saved tracks\n",
    "# improve by not limiting result to 350 - extend indefinitely\n",
    "song_list = []\n",
    "i = 0\n",
    "while i < 350:\n",
    "    results = sp.current_user_saved_tracks(limit=50, offset=i)\n",
    "    for item in results['items']:\n",
    "        song_list.append(item)\n",
    "    i += 50"
   ]
  },
  {
   "cell_type": "markdown",
   "metadata": {},
   "source": [
    "## Save song features and analysis"
   ]
  },
  {
   "cell_type": "code",
   "execution_count": 68,
   "metadata": {},
   "outputs": [
    {
     "name": "stdout",
     "output_type": "stream",
     "text": [
      "Grabbing data from song number 0\n",
      "Grabbing data from song number 25\n",
      "Grabbing data from song number 50\n",
      "Grabbing data from song number 75\n",
      "Grabbing data from song number 100\n",
      "Grabbing data from song number 125\n",
      "Grabbing data from song number 150\n",
      "Grabbing data from song number 175\n",
      "Grabbing data from song number 200\n",
      "Grabbing data from song number 225\n",
      "Grabbing data from song number 250\n",
      "Grabbing data from song number 275\n",
      "Grabbing data from song number 300\n"
     ]
    }
   ],
   "source": [
    "# initiate song dictionary\n",
    "song_dict = dict(\n",
    "    time_added=[],\n",
    "    release_date=[],\n",
    "    release_date_precision=[],\n",
    "    artist_name=[],\n",
    "    artist_id=[],\n",
    "    song_id=[],\n",
    "    song_length_ms=[],\n",
    "    song_name=[],\n",
    "    popularity=[], \n",
    "    loudness = [], \n",
    "    tempo = [], \n",
    "    tempo_confidence = [], \n",
    "    time_signature = [],\n",
    "    time_sig_conf = [], \n",
    "    key = [], \n",
    "    key_confidence = [], \n",
    "    mode = [], \n",
    "    mode_confidence = [], \n",
    "    danceability = [],\n",
    "    energy = [], \n",
    "    speechiness = [], \n",
    "    acousticness = [], \n",
    "    instrumentalness = [], \n",
    "    liveness = [], \n",
    "    valence = [], \n",
    ")\n",
    "\n",
    "# collect saved track data\n",
    "for i, song in enumerate(song_list):\n",
    "    if song_list[i]['track']['id'] in song_dict['song_id']:\n",
    "        continue\n",
    "    else:        \n",
    "        if i % 25 == 0:\n",
    "            print('Grabbing data from song number {}'.format(i))\n",
    "        \n",
    "        song_dict['time_added'].append(song_list[i]['added_at'])\n",
    "        song_dict['release_date'].append(song_list[i]['track']['album']['release_date'])\n",
    "        song_dict['release_date_precision'].append(song_list[i]['track']['album']['release_date_precision'])\n",
    "        song_dict['artist_name'].append(song_list[i]['track']['album']['artists'][0]['name'])\n",
    "        song_dict['artist_id'].append(song_list[i]['track']['artists'][0]['id'])\n",
    "        song_dict['song_id'].append(song_list[i]['track']['id'])\n",
    "        song_dict['song_length_ms'].append(song_list[i]['track']['duration_ms'])\n",
    "        song_dict['song_name'].append(song_list[i]['track']['name'])\n",
    "        song_dict['popularity'].append(song_list[i]['track']['popularity'])\n",
    " \n",
    "        audio_analysis = sp.audio_analysis(song_list[i]['track']['id'])\n",
    "        song_dict['loudness'].append(audio_analysis['track']['loudness'])\n",
    "        song_dict['tempo'].append(audio_analysis['track']['tempo'])\n",
    "        song_dict['tempo_confidence'].append(audio_analysis['track']['tempo_confidence'])\n",
    "        song_dict['time_signature'].append(audio_analysis['track']['time_signature'])\n",
    "        song_dict['time_sig_conf'].append(audio_analysis['track']['time_signature_confidence'])\n",
    "        song_dict['key'].append(audio_analysis['track']['key'])\n",
    "        song_dict['key_confidence'].append(audio_analysis['track']['key_confidence'])\n",
    "        song_dict['mode'].append(audio_analysis['track']['mode'])\n",
    "        song_dict['mode_confidence'].append(audio_analysis['track']['mode_confidence'])\n",
    "        \n",
    "        audio_features = sp.audio_features(top_song_id)\n",
    "        song_dict['danceability'].append(audio_features[0]['danceability'])\n",
    "        song_dict['energy'].append(audio_features[0]['energy'])\n",
    "        song_dict['speechiness'].append(audio_features[0]['speechiness'])\n",
    "        song_dict['acousticness'].append(audio_features[0]['acousticness'])\n",
    "        song_dict['instrumentalness'].append(audio_features[0]['instrumentalness'])\n",
    "        song_dict['liveness'].append(audio_features[0]['liveness'])\n",
    "        song_dict['valence'].append(audio_features[0]['valence'])\n",
    "        \n",
    "fave_songs = pd.DataFrame(song_dict)\n",
    "fave_songs.to_pickle('starred_songs.pkl')"
   ]
  }
 ],
 "metadata": {
  "kernelspec": {
   "display_name": "Python 3",
   "language": "python",
   "name": "python3"
  },
  "language_info": {
   "codemirror_mode": {
    "name": "ipython",
    "version": 3
   },
   "file_extension": ".py",
   "mimetype": "text/x-python",
   "name": "python",
   "nbconvert_exporter": "python",
   "pygments_lexer": "ipython3",
   "version": "3.6.4"
  }
 },
 "nbformat": 4,
 "nbformat_minor": 2
}
