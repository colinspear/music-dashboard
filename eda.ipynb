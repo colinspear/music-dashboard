{
 "cells": [
  {
   "cell_type": "code",
   "execution_count": 2,
   "metadata": {},
   "outputs": [],
   "source": [
    "import pandas as pd\n",
    "\n",
    "lyrics_df = pd.read_pickle('saved_song_lyrics.pkl')\n",
    "spotify_df = pd.read_pickle('starred_songs.pkl')"
   ]
  },
  {
   "cell_type": "code",
   "execution_count": 6,
   "metadata": {},
   "outputs": [
    {
     "name": "stdout",
     "output_type": "stream",
     "text": [
      "<class 'pandas.core.frame.DataFrame'>\n",
      "RangeIndex: 180 entries, 0 to 179\n",
      "Data columns (total 4 columns):\n",
      "artist    180 non-null object\n",
      "song      180 non-null object\n",
      "lyrics    180 non-null object\n",
      "year      135 non-null object\n",
      "dtypes: object(4)\n",
      "memory usage: 5.7+ KB\n"
     ]
    }
   ],
   "source": [
    "lyrics_df.info()"
   ]
  },
  {
   "cell_type": "code",
   "execution_count": 5,
   "metadata": {},
   "outputs": [
    {
     "name": "stdout",
     "output_type": "stream",
     "text": [
      "<class 'pandas.core.frame.DataFrame'>\n",
      "RangeIndex: 309 entries, 0 to 308\n",
      "Data columns (total 25 columns):\n",
      "time_added                309 non-null object\n",
      "release_date              309 non-null object\n",
      "release_date_precision    309 non-null object\n",
      "artist_name               309 non-null object\n",
      "artist_id                 309 non-null object\n",
      "song_id                   309 non-null object\n",
      "song_length_ms            309 non-null int64\n",
      "song_name                 309 non-null object\n",
      "popularity                309 non-null int64\n",
      "loudness                  309 non-null float64\n",
      "tempo                     309 non-null float64\n",
      "tempo_confidence          309 non-null float64\n",
      "time_signature            309 non-null int64\n",
      "time_sig_conf             309 non-null float64\n",
      "key                       309 non-null int64\n",
      "key_confidence            309 non-null float64\n",
      "mode                      309 non-null int64\n",
      "mode_confidence           309 non-null float64\n",
      "danceability              309 non-null float64\n",
      "energy                    309 non-null float64\n",
      "speechiness               309 non-null float64\n",
      "acousticness              309 non-null float64\n",
      "instrumentalness          309 non-null float64\n",
      "liveness                  309 non-null float64\n",
      "valence                   309 non-null float64\n",
      "dtypes: float64(13), int64(5), object(7)\n",
      "memory usage: 60.4+ KB\n"
     ]
    }
   ],
   "source": [
    "spotify_df.info()"
   ]
  },
  {
   "cell_type": "code",
   "execution_count": null,
   "metadata": {},
   "outputs": [],
   "source": []
  }
 ],
 "metadata": {
  "kernelspec": {
   "display_name": "Python 3",
   "language": "python",
   "name": "python3"
  },
  "language_info": {
   "codemirror_mode": {
    "name": "ipython",
    "version": 3
   },
   "file_extension": ".py",
   "mimetype": "text/x-python",
   "name": "python",
   "nbconvert_exporter": "python",
   "pygments_lexer": "ipython3",
   "version": "3.6.4"
  }
 },
 "nbformat": 4,
 "nbformat_minor": 2
}
